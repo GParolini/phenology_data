{
 "cells": [
  {
   "cell_type": "code",
   "execution_count": 1,
   "metadata": {},
   "outputs": [],
   "source": [
    "import os\n",
    "from pathlib import Path\n",
    "import pandas as pd"
   ]
  },
  {
   "cell_type": "code",
   "execution_count": 2,
   "metadata": {},
   "outputs": [],
   "source": [
    "cwd =os.getcwd()\n",
    "p_cwd = Path(cwd).parent.absolute()\n"
   ]
  },
  {
   "cell_type": "code",
   "execution_count": 3,
   "metadata": {},
   "outputs": [],
   "source": [
    "stations_loc = pd.read_csv(os.path.join(p_cwd, \"output\",\"printouts\",\"de_phen_stations.csv\"), index_col=None)"
   ]
  },
  {
   "cell_type": "code",
   "execution_count": 4,
   "metadata": {},
   "outputs": [
    {
     "data": {
      "text/html": [
       "<div>\n",
       "<style scoped>\n",
       "    .dataframe tbody tr th:only-of-type {\n",
       "        vertical-align: middle;\n",
       "    }\n",
       "\n",
       "    .dataframe tbody tr th {\n",
       "        vertical-align: top;\n",
       "    }\n",
       "\n",
       "    .dataframe thead th {\n",
       "        text-align: right;\n",
       "    }\n",
       "</style>\n",
       "<table border=\"1\" class=\"dataframe\">\n",
       "  <thead>\n",
       "    <tr style=\"text-align: right;\">\n",
       "      <th></th>\n",
       "      <th>s_id</th>\n",
       "      <th>lon</th>\n",
       "      <th>lat</th>\n",
       "      <th>name</th>\n",
       "    </tr>\n",
       "  </thead>\n",
       "  <tbody>\n",
       "    <tr>\n",
       "      <th>0</th>\n",
       "      <td>1</td>\n",
       "      <td>9.43333</td>\n",
       "      <td>54.7667</td>\n",
       "      <td>Flensburg, kreisfreie Stadt Flensburg</td>\n",
       "    </tr>\n",
       "    <tr>\n",
       "      <th>1</th>\n",
       "      <td>2</td>\n",
       "      <td>10.15000</td>\n",
       "      <td>54.4000</td>\n",
       "      <td>Kiel-Pries</td>\n",
       "    </tr>\n",
       "    <tr>\n",
       "      <th>2</th>\n",
       "      <td>3</td>\n",
       "      <td>10.15000</td>\n",
       "      <td>54.3333</td>\n",
       "      <td>Kiel-Düsternbrook</td>\n",
       "    </tr>\n",
       "    <tr>\n",
       "      <th>3</th>\n",
       "      <td>4</td>\n",
       "      <td>10.05000</td>\n",
       "      <td>54.3167</td>\n",
       "      <td>Kiel-Mettenhof</td>\n",
       "    </tr>\n",
       "    <tr>\n",
       "      <th>4</th>\n",
       "      <td>5</td>\n",
       "      <td>10.68330</td>\n",
       "      <td>53.8833</td>\n",
       "      <td>Lübeck-Schlutup</td>\n",
       "    </tr>\n",
       "    <tr>\n",
       "      <th>...</th>\n",
       "      <td>...</td>\n",
       "      <td>...</td>\n",
       "      <td>...</td>\n",
       "      <td>...</td>\n",
       "    </tr>\n",
       "    <tr>\n",
       "      <th>6768</th>\n",
       "      <td>21528</td>\n",
       "      <td>14.06670</td>\n",
       "      <td>52.5500</td>\n",
       "      <td>Buckow/Märkische Schweiz</td>\n",
       "    </tr>\n",
       "    <tr>\n",
       "      <th>6769</th>\n",
       "      <td>21529</td>\n",
       "      <td>12.10000</td>\n",
       "      <td>54.1000</td>\n",
       "      <td>Rostock-Gehlsdorf</td>\n",
       "    </tr>\n",
       "    <tr>\n",
       "      <th>6770</th>\n",
       "      <td>21530</td>\n",
       "      <td>12.23330</td>\n",
       "      <td>51.8000</td>\n",
       "      <td>Dessau-Süd</td>\n",
       "    </tr>\n",
       "    <tr>\n",
       "      <th>6771</th>\n",
       "      <td>21531</td>\n",
       "      <td>10.40000</td>\n",
       "      <td>50.7500</td>\n",
       "      <td>Heßles</td>\n",
       "    </tr>\n",
       "    <tr>\n",
       "      <th>6772</th>\n",
       "      <td>21532</td>\n",
       "      <td>10.01670</td>\n",
       "      <td>48.8000</td>\n",
       "      <td>Essingen</td>\n",
       "    </tr>\n",
       "  </tbody>\n",
       "</table>\n",
       "<p>6773 rows × 4 columns</p>\n",
       "</div>"
      ],
      "text/plain": [
       "       s_id       lon      lat                                   name\n",
       "0         1   9.43333  54.7667  Flensburg, kreisfreie Stadt Flensburg\n",
       "1         2  10.15000  54.4000                             Kiel-Pries\n",
       "2         3  10.15000  54.3333                      Kiel-Düsternbrook\n",
       "3         4  10.05000  54.3167                         Kiel-Mettenhof\n",
       "4         5  10.68330  53.8833                        Lübeck-Schlutup\n",
       "...     ...       ...      ...                                    ...\n",
       "6768  21528  14.06670  52.5500               Buckow/Märkische Schweiz\n",
       "6769  21529  12.10000  54.1000                      Rostock-Gehlsdorf\n",
       "6770  21530  12.23330  51.8000                             Dessau-Süd\n",
       "6771  21531  10.40000  50.7500                                 Heßles\n",
       "6772  21532  10.01670  48.8000                               Essingen\n",
       "\n",
       "[6773 rows x 4 columns]"
      ]
     },
     "execution_count": 4,
     "metadata": {},
     "output_type": "execute_result"
    }
   ],
   "source": [
    "stations_loc"
   ]
  },
  {
   "cell_type": "code",
   "execution_count": 5,
   "metadata": {},
   "outputs": [],
   "source": [
    "stations_info = pd.read_csv(os.path.join(p_cwd, \"output\",\"printouts\",\"stations_info.csv\"), index_col=None)"
   ]
  },
  {
   "cell_type": "code",
   "execution_count": 6,
   "metadata": {},
   "outputs": [
    {
     "data": {
      "text/html": [
       "<div>\n",
       "<style scoped>\n",
       "    .dataframe tbody tr th:only-of-type {\n",
       "        vertical-align: middle;\n",
       "    }\n",
       "\n",
       "    .dataframe tbody tr th {\n",
       "        vertical-align: top;\n",
       "    }\n",
       "\n",
       "    .dataframe thead th {\n",
       "        text-align: right;\n",
       "    }\n",
       "</style>\n",
       "<table border=\"1\" class=\"dataframe\">\n",
       "  <thead>\n",
       "    <tr style=\"text-align: right;\">\n",
       "      <th></th>\n",
       "      <th>s_id</th>\n",
       "      <th>total_obs</th>\n",
       "      <th>time_frame</th>\n",
       "    </tr>\n",
       "  </thead>\n",
       "  <tbody>\n",
       "    <tr>\n",
       "      <th>0</th>\n",
       "      <td>1</td>\n",
       "      <td>2515</td>\n",
       "      <td>1954-1999</td>\n",
       "    </tr>\n",
       "    <tr>\n",
       "      <th>1</th>\n",
       "      <td>2</td>\n",
       "      <td>2176</td>\n",
       "      <td>1959-1998</td>\n",
       "    </tr>\n",
       "    <tr>\n",
       "      <th>2</th>\n",
       "      <td>3</td>\n",
       "      <td>614</td>\n",
       "      <td>1983-2009</td>\n",
       "    </tr>\n",
       "    <tr>\n",
       "      <th>3</th>\n",
       "      <td>4</td>\n",
       "      <td>1686</td>\n",
       "      <td>1990-2015</td>\n",
       "    </tr>\n",
       "    <tr>\n",
       "      <th>4</th>\n",
       "      <td>5</td>\n",
       "      <td>308</td>\n",
       "      <td>1978-1995</td>\n",
       "    </tr>\n",
       "    <tr>\n",
       "      <th>...</th>\n",
       "      <td>...</td>\n",
       "      <td>...</td>\n",
       "      <td>...</td>\n",
       "    </tr>\n",
       "    <tr>\n",
       "      <th>6768</th>\n",
       "      <td>21528</td>\n",
       "      <td>21</td>\n",
       "      <td>2019-2019</td>\n",
       "    </tr>\n",
       "    <tr>\n",
       "      <th>6769</th>\n",
       "      <td>21529</td>\n",
       "      <td>58</td>\n",
       "      <td>2019-2019</td>\n",
       "    </tr>\n",
       "    <tr>\n",
       "      <th>6770</th>\n",
       "      <td>21530</td>\n",
       "      <td>27</td>\n",
       "      <td>2019-2019</td>\n",
       "    </tr>\n",
       "    <tr>\n",
       "      <th>6771</th>\n",
       "      <td>21531</td>\n",
       "      <td>39</td>\n",
       "      <td>2019-2019</td>\n",
       "    </tr>\n",
       "    <tr>\n",
       "      <th>6772</th>\n",
       "      <td>21532</td>\n",
       "      <td>28</td>\n",
       "      <td>2019-2019</td>\n",
       "    </tr>\n",
       "  </tbody>\n",
       "</table>\n",
       "<p>6773 rows × 3 columns</p>\n",
       "</div>"
      ],
      "text/plain": [
       "       s_id  total_obs time_frame\n",
       "0         1       2515  1954-1999\n",
       "1         2       2176  1959-1998\n",
       "2         3        614  1983-2009\n",
       "3         4       1686  1990-2015\n",
       "4         5        308  1978-1995\n",
       "...     ...        ...        ...\n",
       "6768  21528         21  2019-2019\n",
       "6769  21529         58  2019-2019\n",
       "6770  21530         27  2019-2019\n",
       "6771  21531         39  2019-2019\n",
       "6772  21532         28  2019-2019\n",
       "\n",
       "[6773 rows x 3 columns]"
      ]
     },
     "execution_count": 6,
     "metadata": {},
     "output_type": "execute_result"
    }
   ],
   "source": [
    "stations_info"
   ]
  },
  {
   "cell_type": "code",
   "execution_count": 7,
   "metadata": {},
   "outputs": [],
   "source": [
    "stations = pd.merge(stations_loc, stations_info, on='s_id' )"
   ]
  },
  {
   "cell_type": "code",
   "execution_count": 8,
   "metadata": {},
   "outputs": [
    {
     "data": {
      "text/html": [
       "<div>\n",
       "<style scoped>\n",
       "    .dataframe tbody tr th:only-of-type {\n",
       "        vertical-align: middle;\n",
       "    }\n",
       "\n",
       "    .dataframe tbody tr th {\n",
       "        vertical-align: top;\n",
       "    }\n",
       "\n",
       "    .dataframe thead th {\n",
       "        text-align: right;\n",
       "    }\n",
       "</style>\n",
       "<table border=\"1\" class=\"dataframe\">\n",
       "  <thead>\n",
       "    <tr style=\"text-align: right;\">\n",
       "      <th></th>\n",
       "      <th>s_id</th>\n",
       "      <th>lon</th>\n",
       "      <th>lat</th>\n",
       "      <th>name</th>\n",
       "      <th>total_obs</th>\n",
       "      <th>time_frame</th>\n",
       "    </tr>\n",
       "  </thead>\n",
       "  <tbody>\n",
       "    <tr>\n",
       "      <th>0</th>\n",
       "      <td>1</td>\n",
       "      <td>9.43333</td>\n",
       "      <td>54.7667</td>\n",
       "      <td>Flensburg, kreisfreie Stadt Flensburg</td>\n",
       "      <td>2515</td>\n",
       "      <td>1954-1999</td>\n",
       "    </tr>\n",
       "    <tr>\n",
       "      <th>1</th>\n",
       "      <td>2</td>\n",
       "      <td>10.15000</td>\n",
       "      <td>54.4000</td>\n",
       "      <td>Kiel-Pries</td>\n",
       "      <td>2176</td>\n",
       "      <td>1959-1998</td>\n",
       "    </tr>\n",
       "    <tr>\n",
       "      <th>2</th>\n",
       "      <td>3</td>\n",
       "      <td>10.15000</td>\n",
       "      <td>54.3333</td>\n",
       "      <td>Kiel-Düsternbrook</td>\n",
       "      <td>614</td>\n",
       "      <td>1983-2009</td>\n",
       "    </tr>\n",
       "    <tr>\n",
       "      <th>3</th>\n",
       "      <td>4</td>\n",
       "      <td>10.05000</td>\n",
       "      <td>54.3167</td>\n",
       "      <td>Kiel-Mettenhof</td>\n",
       "      <td>1686</td>\n",
       "      <td>1990-2015</td>\n",
       "    </tr>\n",
       "    <tr>\n",
       "      <th>4</th>\n",
       "      <td>5</td>\n",
       "      <td>10.68330</td>\n",
       "      <td>53.8833</td>\n",
       "      <td>Lübeck-Schlutup</td>\n",
       "      <td>308</td>\n",
       "      <td>1978-1995</td>\n",
       "    </tr>\n",
       "  </tbody>\n",
       "</table>\n",
       "</div>"
      ],
      "text/plain": [
       "   s_id       lon      lat                                   name  total_obs  \\\n",
       "0     1   9.43333  54.7667  Flensburg, kreisfreie Stadt Flensburg       2515   \n",
       "1     2  10.15000  54.4000                             Kiel-Pries       2176   \n",
       "2     3  10.15000  54.3333                      Kiel-Düsternbrook        614   \n",
       "3     4  10.05000  54.3167                         Kiel-Mettenhof       1686   \n",
       "4     5  10.68330  53.8833                        Lübeck-Schlutup        308   \n",
       "\n",
       "  time_frame  \n",
       "0  1954-1999  \n",
       "1  1959-1998  \n",
       "2  1983-2009  \n",
       "3  1990-2015  \n",
       "4  1978-1995  "
      ]
     },
     "execution_count": 8,
     "metadata": {},
     "output_type": "execute_result"
    }
   ],
   "source": [
    "stations.head()"
   ]
  },
  {
   "cell_type": "code",
   "execution_count": 9,
   "metadata": {},
   "outputs": [
    {
     "data": {
      "text/plain": [
       "s_id            int64\n",
       "lon           float64\n",
       "lat           float64\n",
       "name           object\n",
       "total_obs       int64\n",
       "time_frame     object\n",
       "dtype: object"
      ]
     },
     "execution_count": 9,
     "metadata": {},
     "output_type": "execute_result"
    }
   ],
   "source": [
    "stations.dtypes"
   ]
  },
  {
   "cell_type": "code",
   "execution_count": 10,
   "metadata": {},
   "outputs": [],
   "source": [
    "import folium\n",
    "from folium.plugins import MarkerCluster"
   ]
  },
  {
   "cell_type": "code",
   "execution_count": 11,
   "metadata": {},
   "outputs": [],
   "source": [
    "SF_COORDINATES = (52.520008, 13.404954) #Berlin coordinates"
   ]
  },
  {
   "cell_type": "code",
   "execution_count": 12,
   "metadata": {},
   "outputs": [],
   "source": [
    "# create empty map zoomed in Berlin\n",
    "stations_map = folium.Map(location=SF_COORDINATES, zoom_start=10, tiles=\"Stamen Terrain\")\n",
    "marker_cluster = MarkerCluster().add_to(stations_map)\n",
    "\n",
    "for station in stations.iterrows():\n",
    "    tooltip = \"Station info\"\n",
    "    \n",
    "    popup_string = '{}, {} observations in {}'.format(station[1]['name'],\n",
    "                                                                 station[1]['total_obs'],\n",
    "                                                                 station[1]['time_frame'] )\n",
    "    \n",
    "    folium.Marker([station[1]['lat'],station[1]['lon']],\n",
    "                  popup=popup_string, icon=folium.Icon(color=\"green\", icon=\"suit-diamond-fill\"), \n",
    "                  tooltip=tooltip).add_to(marker_cluster)"
   ]
  },
  {
   "cell_type": "code",
   "execution_count": 13,
   "metadata": {},
   "outputs": [],
   "source": [
    "stations_map.save(outfile= os.path.join(p_cwd, \"output\",\"images\",\"phenology_stations_map.html\"))"
   ]
  },
  {
   "cell_type": "code",
   "execution_count": null,
   "metadata": {},
   "outputs": [],
   "source": []
  },
  {
   "cell_type": "code",
   "execution_count": null,
   "metadata": {},
   "outputs": [],
   "source": []
  },
  {
   "cell_type": "code",
   "execution_count": null,
   "metadata": {},
   "outputs": [],
   "source": []
  },
  {
   "cell_type": "code",
   "execution_count": null,
   "metadata": {},
   "outputs": [],
   "source": []
  },
  {
   "cell_type": "code",
   "execution_count": null,
   "metadata": {},
   "outputs": [],
   "source": [
    "import os\n",
    "from pathlib import Path\n",
    "import geopandas as gpd\n",
    "import pandas as pd\n",
    "import contextily as ctx\n",
    "import matplotlib.pyplot as plt"
   ]
  },
  {
   "cell_type": "code",
   "execution_count": null,
   "metadata": {},
   "outputs": [],
   "source": []
  },
  {
   "cell_type": "code",
   "execution_count": null,
   "metadata": {},
   "outputs": [],
   "source": []
  },
  {
   "cell_type": "code",
   "execution_count": null,
   "metadata": {},
   "outputs": [],
   "source": []
  },
  {
   "cell_type": "code",
   "execution_count": null,
   "metadata": {},
   "outputs": [],
   "source": []
  },
  {
   "cell_type": "code",
   "execution_count": null,
   "metadata": {},
   "outputs": [],
   "source": []
  },
  {
   "cell_type": "code",
   "execution_count": null,
   "metadata": {},
   "outputs": [],
   "source": [
    "plt.style.use('seaborn')"
   ]
  },
  {
   "cell_type": "code",
   "execution_count": null,
   "metadata": {},
   "outputs": [],
   "source": [
    "%matplotlib inline"
   ]
  },
  {
   "cell_type": "code",
   "execution_count": null,
   "metadata": {},
   "outputs": [],
   "source": []
  },
  {
   "cell_type": "code",
   "execution_count": null,
   "metadata": {},
   "outputs": [],
   "source": [
    "cwd =os.getcwd()\n",
    "p_cwd = Path(cwd).parent.absolute()\n",
    "df_stations = pd.read_csv(os.path.join(p_cwd,\"data\",\"de_phen_stations.csv\"))"
   ]
  },
  {
   "cell_type": "code",
   "execution_count": null,
   "metadata": {},
   "outputs": [],
   "source": [
    "df_stations.head()"
   ]
  },
  {
   "cell_type": "code",
   "execution_count": null,
   "metadata": {},
   "outputs": [],
   "source": [
    "gdf = gpd.GeoDataFrame(\n",
    "     df_stations, geometry=gpd.points_from_xy(df_stations.lon, df_stations.lat))"
   ]
  },
  {
   "cell_type": "code",
   "execution_count": null,
   "metadata": {},
   "outputs": [],
   "source": [
    "gdf.crs = \"WGS84\""
   ]
  },
  {
   "cell_type": "code",
   "execution_count": null,
   "metadata": {},
   "outputs": [],
   "source": [
    "gdf"
   ]
  },
  {
   "cell_type": "code",
   "execution_count": null,
   "metadata": {},
   "outputs": [],
   "source": [
    "gdf_trans = gdf.to_crs(epsg=3857)"
   ]
  },
  {
   "cell_type": "code",
   "execution_count": null,
   "metadata": {},
   "outputs": [],
   "source": [
    "gdf_trans.plot()"
   ]
  },
  {
   "cell_type": "code",
   "execution_count": null,
   "metadata": {},
   "outputs": [],
   "source": [
    "gdf_trans"
   ]
  },
  {
   "cell_type": "code",
   "execution_count": null,
   "metadata": {},
   "outputs": [],
   "source": [
    "gdf_trans.describe()"
   ]
  },
  {
   "cell_type": "code",
   "execution_count": null,
   "metadata": {},
   "outputs": [],
   "source": [
    "ctx.providers.keys()"
   ]
  },
  {
   "cell_type": "code",
   "execution_count": null,
   "metadata": {},
   "outputs": [],
   "source": [
    "fig, ax = plt.subplots(figsize=(30, 30))\n",
    "extent = (600000, 1700000, 5900000, 7400000)\n",
    "gdf_trans.plot(ax=ax, color='red', markersize=20.0)\n",
    "ax.axis(extent)\n",
    "ctx.add_basemap(ax, source=ctx.providers.OpenTopoMap)\n",
    "\n",
    "plt.savefig(os.path.join(p_cwd, \"output\", \"images\", \"map_phen_stat_de.jpg\"), dpi=300, facecolor='w', edgecolor='w',\n",
    "        orientation='landscape', papertype=None, format='jpg',\n",
    "        transparent=True, bbox_inches=None, pad_inches=0.1,\n",
    "        frameon=None, metadata=None)\n"
   ]
  },
  {
   "cell_type": "code",
   "execution_count": null,
   "metadata": {},
   "outputs": [],
   "source": []
  }
 ],
 "metadata": {
  "kernelspec": {
   "display_name": "Python 3",
   "language": "python",
   "name": "python3"
  },
  "language_info": {
   "codemirror_mode": {
    "name": "ipython",
    "version": 3
   },
   "file_extension": ".py",
   "mimetype": "text/x-python",
   "name": "python",
   "nbconvert_exporter": "python",
   "pygments_lexer": "ipython3",
   "version": "3.7.7"
  }
 },
 "nbformat": 4,
 "nbformat_minor": 4
}
