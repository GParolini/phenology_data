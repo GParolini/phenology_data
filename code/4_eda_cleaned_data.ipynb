{
 "cells": [
  {
   "cell_type": "markdown",
   "metadata": {},
   "source": [
    "# EDA Cleaned Phenology Data (i.e. complete information on genus and species)"
   ]
  },
  {
   "cell_type": "code",
   "execution_count": 1,
   "metadata": {},
   "outputs": [],
   "source": [
    "import pandas as pd\n",
    "import os\n",
    "from pathlib import Path\n",
    "import matplotlib.pyplot as plt\n",
    "import json"
   ]
  },
  {
   "cell_type": "markdown",
   "metadata": {},
   "source": [
    "## Reading data"
   ]
  },
  {
   "cell_type": "code",
   "execution_count": 2,
   "metadata": {},
   "outputs": [],
   "source": [
    "cwd =os.getcwd()\n",
    "p_cwd = Path(cwd).parent.absolute()"
   ]
  },
  {
   "cell_type": "code",
   "execution_count": 3,
   "metadata": {},
   "outputs": [],
   "source": [
    "df = pd.read_csv(os.path.join(p_cwd, \"data\",\"clean_phen_data.csv\"))"
   ]
  },
  {
   "cell_type": "code",
   "execution_count": 4,
   "metadata": {},
   "outputs": [
    {
     "data": {
      "text/html": [
       "<div>\n",
       "<style scoped>\n",
       "    .dataframe tbody tr th:only-of-type {\n",
       "        vertical-align: middle;\n",
       "    }\n",
       "\n",
       "    .dataframe tbody tr th {\n",
       "        vertical-align: top;\n",
       "    }\n",
       "\n",
       "    .dataframe thead th {\n",
       "        text-align: right;\n",
       "    }\n",
       "</style>\n",
       "<table border=\"1\" class=\"dataframe\">\n",
       "  <thead>\n",
       "    <tr style=\"text-align: right;\">\n",
       "      <th></th>\n",
       "      <th>s_id</th>\n",
       "      <th>provider_id</th>\n",
       "      <th>lon</th>\n",
       "      <th>lat</th>\n",
       "      <th>alt</th>\n",
       "      <th>alt_dem</th>\n",
       "      <th>gss_id</th>\n",
       "      <th>genus</th>\n",
       "      <th>species</th>\n",
       "      <th>phase_id</th>\n",
       "      <th>year</th>\n",
       "      <th>day</th>\n",
       "      <th>date</th>\n",
       "      <th>cult_season</th>\n",
       "      <th>affected_flag</th>\n",
       "      <th>qc_flag</th>\n",
       "      <th>qc_ori_flag</th>\n",
       "    </tr>\n",
       "  </thead>\n",
       "  <tbody>\n",
       "    <tr>\n",
       "      <th>0</th>\n",
       "      <td>5144</td>\n",
       "      <td>101</td>\n",
       "      <td>11.23330</td>\n",
       "      <td>53.9833</td>\n",
       "      <td>5</td>\n",
       "      <td>0</td>\n",
       "      <td>2390300</td>\n",
       "      <td>Tilia</td>\n",
       "      <td>Tilia platyphyllos</td>\n",
       "      <td>60</td>\n",
       "      <td>1951</td>\n",
       "      <td>2</td>\n",
       "      <td>1951-01-02</td>\n",
       "      <td>0</td>\n",
       "      <td>0</td>\n",
       "      <td>0</td>\n",
       "      <td>0</td>\n",
       "    </tr>\n",
       "    <tr>\n",
       "      <th>1</th>\n",
       "      <td>2255</td>\n",
       "      <td>101</td>\n",
       "      <td>8.96667</td>\n",
       "      <td>51.3333</td>\n",
       "      <td>250</td>\n",
       "      <td>256</td>\n",
       "      <td>1360100</td>\n",
       "      <td>Corylus</td>\n",
       "      <td>Corylus avellana</td>\n",
       "      <td>60</td>\n",
       "      <td>1951</td>\n",
       "      <td>5</td>\n",
       "      <td>1951-01-05</td>\n",
       "      <td>0</td>\n",
       "      <td>0</td>\n",
       "      <td>0</td>\n",
       "      <td>0</td>\n",
       "    </tr>\n",
       "    <tr>\n",
       "      <th>2</th>\n",
       "      <td>1967</td>\n",
       "      <td>101</td>\n",
       "      <td>9.00000</td>\n",
       "      <td>49.6667</td>\n",
       "      <td>220</td>\n",
       "      <td>221</td>\n",
       "      <td>1360100</td>\n",
       "      <td>Corylus</td>\n",
       "      <td>Corylus avellana</td>\n",
       "      <td>60</td>\n",
       "      <td>1951</td>\n",
       "      <td>6</td>\n",
       "      <td>1951-01-06</td>\n",
       "      <td>0</td>\n",
       "      <td>0</td>\n",
       "      <td>0</td>\n",
       "      <td>0</td>\n",
       "    </tr>\n",
       "    <tr>\n",
       "      <th>3</th>\n",
       "      <td>4014</td>\n",
       "      <td>101</td>\n",
       "      <td>10.93330</td>\n",
       "      <td>49.8000</td>\n",
       "      <td>260</td>\n",
       "      <td>242</td>\n",
       "      <td>1360100</td>\n",
       "      <td>Corylus</td>\n",
       "      <td>Corylus avellana</td>\n",
       "      <td>60</td>\n",
       "      <td>1951</td>\n",
       "      <td>7</td>\n",
       "      <td>1951-01-07</td>\n",
       "      <td>0</td>\n",
       "      <td>0</td>\n",
       "      <td>0</td>\n",
       "      <td>0</td>\n",
       "    </tr>\n",
       "    <tr>\n",
       "      <th>4</th>\n",
       "      <td>512</td>\n",
       "      <td>101</td>\n",
       "      <td>10.13330</td>\n",
       "      <td>52.0167</td>\n",
       "      <td>120</td>\n",
       "      <td>122</td>\n",
       "      <td>1600100</td>\n",
       "      <td>Galanthus</td>\n",
       "      <td>Galanthus nivalis</td>\n",
       "      <td>60</td>\n",
       "      <td>1951</td>\n",
       "      <td>10</td>\n",
       "      <td>1951-01-10</td>\n",
       "      <td>0</td>\n",
       "      <td>0</td>\n",
       "      <td>0</td>\n",
       "      <td>0</td>\n",
       "    </tr>\n",
       "  </tbody>\n",
       "</table>\n",
       "</div>"
      ],
      "text/plain": [
       "   s_id  provider_id       lon      lat  alt  alt_dem   gss_id      genus  \\\n",
       "0  5144          101  11.23330  53.9833    5        0  2390300      Tilia   \n",
       "1  2255          101   8.96667  51.3333  250      256  1360100    Corylus   \n",
       "2  1967          101   9.00000  49.6667  220      221  1360100    Corylus   \n",
       "3  4014          101  10.93330  49.8000  260      242  1360100    Corylus   \n",
       "4   512          101  10.13330  52.0167  120      122  1600100  Galanthus   \n",
       "\n",
       "              species  phase_id  year  day        date  cult_season  \\\n",
       "0  Tilia platyphyllos        60  1951    2  1951-01-02            0   \n",
       "1    Corylus avellana        60  1951    5  1951-01-05            0   \n",
       "2    Corylus avellana        60  1951    6  1951-01-06            0   \n",
       "3    Corylus avellana        60  1951    7  1951-01-07            0   \n",
       "4   Galanthus nivalis        60  1951   10  1951-01-10            0   \n",
       "\n",
       "   affected_flag  qc_flag  qc_ori_flag  \n",
       "0              0        0            0  \n",
       "1              0        0            0  \n",
       "2              0        0            0  \n",
       "3              0        0            0  \n",
       "4              0        0            0  "
      ]
     },
     "execution_count": 4,
     "metadata": {},
     "output_type": "execute_result"
    }
   ],
   "source": [
    "df.head()"
   ]
  },
  {
   "cell_type": "code",
   "execution_count": 5,
   "metadata": {},
   "outputs": [
    {
     "data": {
      "text/plain": [
       "array([101,  99, 102])"
      ]
     },
     "execution_count": 5,
     "metadata": {},
     "output_type": "execute_result"
    }
   ],
   "source": [
    "#provider_id gives information on the Phenological Network\n",
    "df['provider_id'].unique()\n",
    "#the column 'provider_id' will be dropped in the analysis"
   ]
  },
  {
   "cell_type": "code",
   "execution_count": 6,
   "metadata": {},
   "outputs": [
    {
     "data": {
      "text/plain": [
       "affected_flag\n",
       "0    10793115\n",
       "1         279\n",
       "dtype: int64"
      ]
     },
     "execution_count": 6,
     "metadata": {},
     "output_type": "execute_result"
    }
   ],
   "source": [
    "# affected_flag provides information on exceptional events that may have affected the observation\n",
    "df.groupby(by='affected_flag').size()"
   ]
  },
  {
   "cell_type": "code",
   "execution_count": 7,
   "metadata": {},
   "outputs": [
    {
     "data": {
      "text/plain": [
       "qc_flag\n",
       "0    10793394\n",
       "dtype: int64"
      ]
     },
     "execution_count": 7,
     "metadata": {},
     "output_type": "execute_result"
    }
   ],
   "source": [
    "# quality control flag\n",
    "df.groupby(by='qc_flag').size()\n",
    "#the column 'qc_flag' will be dropped in the analysis"
   ]
  },
  {
   "cell_type": "code",
   "execution_count": 8,
   "metadata": {},
   "outputs": [
    {
     "data": {
      "text/plain": [
       "qc_ori_flag\n",
       "0    10793394\n",
       "dtype: int64"
      ]
     },
     "execution_count": 8,
     "metadata": {},
     "output_type": "execute_result"
    }
   ],
   "source": [
    "# another quality control flag\n",
    "df.groupby(by='qc_ori_flag').size()\n",
    "#the column 'qc_ori_flag' will be dropped in the analysis"
   ]
  },
  {
   "cell_type": "code",
   "execution_count": 9,
   "metadata": {},
   "outputs": [
    {
     "data": {
      "image/png": "[encoded data removed]",
      "text/plain": [
       "<Figure size 1440x720 with 1 Axes>"
      ]
     },
     "metadata": {
      "needs_background": "light"
     },
     "output_type": "display_data"
    }
   ],
   "source": [
    "# Plot of the observations per year\n",
    "obs_plot = pd.DataFrame(df.groupby(by='year').size()).plot.bar(figsize=(20,10), color='limegreen', rot=60)\n",
    "plt.savefig(os.path.join(p_cwd, \"output\",\"images\",\"observations_plot.jpg\"), dpi=300,\n",
    "        orientation='portrait')"
   ]
  },
  {
   "cell_type": "markdown",
   "metadata": {},
   "source": [
    "## Pheno phases"
   ]
  },
  {
   "cell_type": "code",
   "execution_count": 10,
   "metadata": {},
   "outputs": [
    {
     "data": {
      "text/html": [
       "<div>\n",
       "<style scoped>\n",
       "    .dataframe tbody tr th:only-of-type {\n",
       "        vertical-align: middle;\n",
       "    }\n",
       "\n",
       "    .dataframe tbody tr th {\n",
       "        vertical-align: top;\n",
       "    }\n",
       "\n",
       "    .dataframe thead th {\n",
       "        text-align: right;\n",
       "    }\n",
       "</style>\n",
       "<table border=\"1\" class=\"dataframe\">\n",
       "  <thead>\n",
       "    <tr style=\"text-align: right;\">\n",
       "      <th></th>\n",
       "      <th>0</th>\n",
       "    </tr>\n",
       "    <tr>\n",
       "      <th>phase_id</th>\n",
       "      <th></th>\n",
       "    </tr>\n",
       "  </thead>\n",
       "  <tbody>\n",
       "    <tr>\n",
       "      <th>60</th>\n",
       "      <td>3544673</td>\n",
       "    </tr>\n",
       "    <tr>\n",
       "      <th>87</th>\n",
       "      <td>1120446</td>\n",
       "    </tr>\n",
       "    <tr>\n",
       "      <th>10</th>\n",
       "      <td>1066906</td>\n",
       "    </tr>\n",
       "    <tr>\n",
       "      <th>11</th>\n",
       "      <td>1030945</td>\n",
       "    </tr>\n",
       "    <tr>\n",
       "      <th>100</th>\n",
       "      <td>575525</td>\n",
       "    </tr>\n",
       "  </tbody>\n",
       "</table>\n",
       "</div>"
      ],
      "text/plain": [
       "                0\n",
       "phase_id         \n",
       "60        3544673\n",
       "87        1120446\n",
       "10        1066906\n",
       "11        1030945\n",
       "100        575525"
      ]
     },
     "execution_count": 10,
     "metadata": {},
     "output_type": "execute_result"
    }
   ],
   "source": [
    "#counting the number of obs available for each pheno phase\n",
    "df_phases_num = pd.DataFrame(df.groupby(by='phase_id').size().sort_values(ascending=False))\n",
    "df_phases_num.head()"
   ]
  },
  {
   "cell_type": "code",
   "execution_count": 11,
   "metadata": {},
   "outputs": [
    {
     "data": {
      "text/plain": [
       "[60,\n",
       " 87,\n",
       " 10,\n",
       " 11,\n",
       " 100,\n",
       " 205,\n",
       " 286,\n",
       " 0,\n",
       " 65,\n",
       " 69,\n",
       " 51,\n",
       " 31,\n",
       " 95,\n",
       " 111,\n",
       " 7,\n",
       " 61,\n",
       " 85,\n",
       " 75,\n",
       " 250,\n",
       " 161,\n",
       " 151,\n",
       " 81,\n",
       " 97]"
      ]
     },
     "execution_count": 11,
     "metadata": {},
     "output_type": "execute_result"
    }
   ],
   "source": [
    "# list of the pheno phases represented in the dataset\n",
    "phases_list = df_phases_num.index.tolist()\n",
    "phases_list"
   ]
  },
  {
   "cell_type": "code",
   "execution_count": 12,
   "metadata": {},
   "outputs": [
    {
     "data": {
      "image/png": "[encoded data removed]",
      "text/plain": [
       "<Figure size 1440x720 with 1 Axes>"
      ]
     },
     "metadata": {
      "needs_background": "light"
     },
     "output_type": "display_data"
    }
   ],
   "source": [
    "# Plot of the observations for each phenophase\n",
    "phases_plot = pd.DataFrame(df.groupby(by='phase_id').size().sort_values(ascending=False)).plot.bar(figsize=(20,10), color='limegreen', rot=60)\n",
    "plt.savefig(os.path.join(p_cwd, \"output\",\"images\",\"phases_plot.jpg\"), dpi=300,\n",
    "        orientation='portrait')"
   ]
  },
  {
   "cell_type": "code",
   "execution_count": 13,
   "metadata": {},
   "outputs": [
    {
     "data": {
      "text/html": [
       "<div>\n",
       "<style scoped>\n",
       "    .dataframe tbody tr th:only-of-type {\n",
       "        vertical-align: middle;\n",
       "    }\n",
       "\n",
       "    .dataframe tbody tr th {\n",
       "        vertical-align: top;\n",
       "    }\n",
       "\n",
       "    .dataframe thead th {\n",
       "        text-align: right;\n",
       "    }\n",
       "</style>\n",
       "<table border=\"1\" class=\"dataframe\">\n",
       "  <thead>\n",
       "    <tr style=\"text-align: right;\">\n",
       "      <th></th>\n",
       "      <th>phase_id</th>\n",
       "      <th>bbch</th>\n",
       "      <th>description</th>\n",
       "      <th>lastmod</th>\n",
       "    </tr>\n",
       "  </thead>\n",
       "  <tbody>\n",
       "    <tr>\n",
       "      <th>0</th>\n",
       "      <td>0</td>\n",
       "      <td>0.0</td>\n",
       "      <td>Dry seed (seed dressing takes place at stage 0...</td>\n",
       "      <td>2017-03-31 06:40:00</td>\n",
       "    </tr>\n",
       "    <tr>\n",
       "      <th>1</th>\n",
       "      <td>1</td>\n",
       "      <td>1.0</td>\n",
       "      <td>Beginning of seed imbibition, P, V: Beginning ...</td>\n",
       "      <td>2017-03-31 06:40:00</td>\n",
       "    </tr>\n",
       "    <tr>\n",
       "      <th>2</th>\n",
       "      <td>3</td>\n",
       "      <td>3.0</td>\n",
       "      <td>Seed imbibition complete, P, V: End of bud swe...</td>\n",
       "      <td>2017-03-31 06:40:00</td>\n",
       "    </tr>\n",
       "    <tr>\n",
       "      <th>3</th>\n",
       "      <td>5</td>\n",
       "      <td>5.0</td>\n",
       "      <td>Radicle (root) emerged from seed, P, V: Perenn...</td>\n",
       "      <td>2017-03-31 06:40:00</td>\n",
       "    </tr>\n",
       "    <tr>\n",
       "      <th>4</th>\n",
       "      <td>6</td>\n",
       "      <td>6.0</td>\n",
       "      <td>Elongation of radicle, formation of root hairs...</td>\n",
       "      <td>2017-03-31 06:40:00</td>\n",
       "    </tr>\n",
       "  </tbody>\n",
       "</table>\n",
       "</div>"
      ],
      "text/plain": [
       "   phase_id  bbch                                        description  \\\n",
       "0         0   0.0  Dry seed (seed dressing takes place at stage 0...   \n",
       "1         1   1.0  Beginning of seed imbibition, P, V: Beginning ...   \n",
       "2         3   3.0  Seed imbibition complete, P, V: End of bud swe...   \n",
       "3         5   5.0  Radicle (root) emerged from seed, P, V: Perenn...   \n",
       "4         6   6.0  Elongation of radicle, formation of root hairs...   \n",
       "\n",
       "               lastmod  \n",
       "0  2017-03-31 06:40:00  \n",
       "1  2017-03-31 06:40:00  \n",
       "2  2017-03-31 06:40:00  \n",
       "3  2017-03-31 06:40:00  \n",
       "4  2017-03-31 06:40:00  "
      ]
     },
     "execution_count": 13,
     "metadata": {},
     "output_type": "execute_result"
    }
   ],
   "source": [
    "#Phases description\n",
    "df_phases = pd.read_csv(os.path.join(p_cwd, \"data\",\"other_data\",\"pep725_phase.csv\"), sep=';', index_col=False)\n",
    "df_phases.head()"
   ]
  },
  {
   "cell_type": "code",
   "execution_count": 14,
   "metadata": {},
   "outputs": [
    {
     "data": {
      "text/plain": [
       "phase_id         int64\n",
       "bbch           float64\n",
       "description     object\n",
       "lastmod         object\n",
       "dtype: object"
      ]
     },
     "execution_count": 14,
     "metadata": {},
     "output_type": "execute_result"
    }
   ],
   "source": [
    "df_phases.dtypes"
   ]
  },
  {
   "cell_type": "code",
   "execution_count": 15,
   "metadata": {},
   "outputs": [],
   "source": [
    "df_phases.set_index('phase_id', inplace=True)"
   ]
  },
  {
   "cell_type": "code",
   "execution_count": 16,
   "metadata": {},
   "outputs": [
    {
     "name": "stdout",
     "output_type": "stream",
     "text": [
      "{60: 'Beginnin of flowering: first flowers open (sporadically)', 87: 'Fruit begins to soften (species with fleshy fruit), fruit ripe for picking', 10: 'G: First true leaf emerged from coleoptile, D, M: Cotyledons completely unfolded, P: First leaves separated', 11: 'First true leaf, leaf pair or whorl unfolded, P: First leaves unfolded', 100: 'start of harvest', 205: 'autumnal colouration >=50%', 286: 'first ripe fruits', 0: 'Dry seed (seed dressing takes place at stage 00), P, V: Winter dormancy or resting period', 65: 'Full flowering: 50% of flowers open, first petals may be fallen', 69: 'End of flowering: fruit set visible', 51: 'Inflorescence or flower buds visible, G: Beginning of heading', 31: 'Stem (rosette) 10% of final length (diameter), G: 1 node detectable', 95: '50% of leaves fallen', 111: 'first cut for silage winning', 7: 'G: Coleoptile emerged from caryopsis, D, M: Hypocotyl with cotyledons or shoot breaking through seed coat, P, V: Beginning of sprouting or bud breaking', 61: 'Beginning of flowering: 10% of flowers open', 85: 'Advanced ripening or fruit colouration, G: Soft dough stage', 75: '50% of fruits have reached final size or fruit has reached 50% of final size, G: Milky ripe, medium milk', 250: 'Grapevine bleeding, pruned grapes start to loss water from the cuts', 161: 'start of Corn - cob - mix harvest for silage', 151: 'start of  harvest for silage (corn, grass)', 81: 'Beginning of ripening or fruit colouration', 97: 'End of leaf fall, plants or above ground parts dead or dormant, P Plant resting or dormant'}\n"
     ]
    }
   ],
   "source": [
    "# Creating a dictionary with the phases descriptions and saving it as json file\n",
    "\n",
    "phases_dict={}\n",
    "\n",
    "for phase in phases_list:\n",
    "    phase_description = df_phases._get_value(phase, \"description\")\n",
    "    phases_dict.update({phase:phase_description})\n",
    "    \n",
    "print(phases_dict)\n",
    "\n",
    "out_file = os.path.join(p_cwd, \"output\",\"printouts\",\"phases_dictionary.json\")\n",
    "with open (out_file, 'w') as f:\n",
    "    json.dump(phases_dict, f, indent=4)"
   ]
  },
  {
   "cell_type": "markdown",
   "metadata": {},
   "source": [
    "## Phenological stations"
   ]
  },
  {
   "cell_type": "code",
   "execution_count": 17,
   "metadata": {},
   "outputs": [
    {
     "name": "stdout",
     "output_type": "stream",
     "text": [
      "6773\n"
     ]
    }
   ],
   "source": [
    "lst_stations = sorted(set(df['s_id'].to_list()))\n",
    "print(len(lst_stations))"
   ]
  },
  {
   "cell_type": "code",
   "execution_count": 18,
   "metadata": {},
   "outputs": [],
   "source": [
    "# observations per station and timeframe of these observations. Used to create the interactive folium map\n",
    "df_lst = []\n",
    "for station in lst_stations:\n",
    "    obs = len(df[df['s_id']==station])\n",
    "    oldest = df[df['s_id']==station]['year'].min()\n",
    "    newest = df[df['s_id']==station]['year'].max()\n",
    "    time_frame= \"{oldest}-{newest}\".format(oldest=oldest, newest=newest)\n",
    "    df_lst.append((station, obs, time_frame))  "
   ]
  },
  {
   "cell_type": "code",
   "execution_count": 19,
   "metadata": {},
   "outputs": [
    {
     "data": {
      "text/html": [
       "<div>\n",
       "<style scoped>\n",
       "    .dataframe tbody tr th:only-of-type {\n",
       "        vertical-align: middle;\n",
       "    }\n",
       "\n",
       "    .dataframe tbody tr th {\n",
       "        vertical-align: top;\n",
       "    }\n",
       "\n",
       "    .dataframe thead th {\n",
       "        text-align: right;\n",
       "    }\n",
       "</style>\n",
       "<table border=\"1\" class=\"dataframe\">\n",
       "  <thead>\n",
       "    <tr style=\"text-align: right;\">\n",
       "      <th></th>\n",
       "      <th>s_id</th>\n",
       "      <th>total_obs</th>\n",
       "      <th>time_frame</th>\n",
       "    </tr>\n",
       "  </thead>\n",
       "  <tbody>\n",
       "    <tr>\n",
       "      <th>0</th>\n",
       "      <td>1</td>\n",
       "      <td>2515</td>\n",
       "      <td>1954-1999</td>\n",
       "    </tr>\n",
       "    <tr>\n",
       "      <th>1</th>\n",
       "      <td>2</td>\n",
       "      <td>2176</td>\n",
       "      <td>1959-1998</td>\n",
       "    </tr>\n",
       "    <tr>\n",
       "      <th>2</th>\n",
       "      <td>3</td>\n",
       "      <td>614</td>\n",
       "      <td>1983-2009</td>\n",
       "    </tr>\n",
       "    <tr>\n",
       "      <th>3</th>\n",
       "      <td>4</td>\n",
       "      <td>1686</td>\n",
       "      <td>1990-2015</td>\n",
       "    </tr>\n",
       "    <tr>\n",
       "      <th>4</th>\n",
       "      <td>5</td>\n",
       "      <td>308</td>\n",
       "      <td>1978-1995</td>\n",
       "    </tr>\n",
       "    <tr>\n",
       "      <th>...</th>\n",
       "      <td>...</td>\n",
       "      <td>...</td>\n",
       "      <td>...</td>\n",
       "    </tr>\n",
       "    <tr>\n",
       "      <th>6768</th>\n",
       "      <td>21528</td>\n",
       "      <td>21</td>\n",
       "      <td>2019-2019</td>\n",
       "    </tr>\n",
       "    <tr>\n",
       "      <th>6769</th>\n",
       "      <td>21529</td>\n",
       "      <td>58</td>\n",
       "      <td>2019-2019</td>\n",
       "    </tr>\n",
       "    <tr>\n",
       "      <th>6770</th>\n",
       "      <td>21530</td>\n",
       "      <td>27</td>\n",
       "      <td>2019-2019</td>\n",
       "    </tr>\n",
       "    <tr>\n",
       "      <th>6771</th>\n",
       "      <td>21531</td>\n",
       "      <td>39</td>\n",
       "      <td>2019-2019</td>\n",
       "    </tr>\n",
       "    <tr>\n",
       "      <th>6772</th>\n",
       "      <td>21532</td>\n",
       "      <td>28</td>\n",
       "      <td>2019-2019</td>\n",
       "    </tr>\n",
       "  </tbody>\n",
       "</table>\n",
       "<p>6773 rows × 3 columns</p>\n",
       "</div>"
      ],
      "text/plain": [
       "       s_id  total_obs time_frame\n",
       "0         1       2515  1954-1999\n",
       "1         2       2176  1959-1998\n",
       "2         3        614  1983-2009\n",
       "3         4       1686  1990-2015\n",
       "4         5        308  1978-1995\n",
       "...     ...        ...        ...\n",
       "6768  21528         21  2019-2019\n",
       "6769  21529         58  2019-2019\n",
       "6770  21530         27  2019-2019\n",
       "6771  21531         39  2019-2019\n",
       "6772  21532         28  2019-2019\n",
       "\n",
       "[6773 rows x 3 columns]"
      ]
     },
     "execution_count": 19,
     "metadata": {},
     "output_type": "execute_result"
    }
   ],
   "source": [
    "df_station_info = pd.DataFrame(df_lst, columns=['s_id', 'total_obs', 'time_frame'])\n",
    "df_station_info"
   ]
  },
  {
   "cell_type": "code",
   "execution_count": 20,
   "metadata": {},
   "outputs": [],
   "source": [
    "df_station_info.to_csv(os.path.join(p_cwd, \"output\", \"printouts\", \"stations_info.csv\"), index=0)"
   ]
  },
  {
   "cell_type": "code",
   "execution_count": 21,
   "metadata": {},
   "outputs": [
    {
     "data": {
      "text/html": [
       "<div>\n",
       "<style scoped>\n",
       "    .dataframe tbody tr th:only-of-type {\n",
       "        vertical-align: middle;\n",
       "    }\n",
       "\n",
       "    .dataframe tbody tr th {\n",
       "        vertical-align: top;\n",
       "    }\n",
       "\n",
       "    .dataframe thead th {\n",
       "        text-align: right;\n",
       "    }\n",
       "</style>\n",
       "<table border=\"1\" class=\"dataframe\">\n",
       "  <thead>\n",
       "    <tr style=\"text-align: right;\">\n",
       "      <th></th>\n",
       "      <th>s_id</th>\n",
       "      <th>provider_id</th>\n",
       "      <th>country_id</th>\n",
       "      <th>nat_id</th>\n",
       "      <th>lon</th>\n",
       "      <th>lat</th>\n",
       "      <th>alt</th>\n",
       "      <th>alt_dem</th>\n",
       "      <th>qc_flag</th>\n",
       "      <th>name</th>\n",
       "      <th>lastmod</th>\n",
       "    </tr>\n",
       "  </thead>\n",
       "  <tbody>\n",
       "    <tr>\n",
       "      <th>0</th>\n",
       "      <td>1</td>\n",
       "      <td>101</td>\n",
       "      <td>1</td>\n",
       "      <td>11110000</td>\n",
       "      <td>9.43333</td>\n",
       "      <td>54.7667</td>\n",
       "      <td>25</td>\n",
       "      <td>34</td>\n",
       "      <td>1</td>\n",
       "      <td>Flensburg, kreisfreie Stadt Flensburg</td>\n",
       "      <td>2017-03-14 12:42:00</td>\n",
       "    </tr>\n",
       "    <tr>\n",
       "      <th>1</th>\n",
       "      <td>2</td>\n",
       "      <td>101</td>\n",
       "      <td>1</td>\n",
       "      <td>11120000</td>\n",
       "      <td>10.15000</td>\n",
       "      <td>54.4000</td>\n",
       "      <td>25</td>\n",
       "      <td>31</td>\n",
       "      <td>1</td>\n",
       "      <td>Kiel-Pries</td>\n",
       "      <td>2017-03-14 12:44:00</td>\n",
       "    </tr>\n",
       "    <tr>\n",
       "      <th>2</th>\n",
       "      <td>3</td>\n",
       "      <td>101</td>\n",
       "      <td>1</td>\n",
       "      <td>11120001</td>\n",
       "      <td>10.15000</td>\n",
       "      <td>54.3333</td>\n",
       "      <td>29</td>\n",
       "      <td>29</td>\n",
       "      <td>1</td>\n",
       "      <td>Kiel-Düsternbrook</td>\n",
       "      <td>2017-03-14 12:44:00</td>\n",
       "    </tr>\n",
       "    <tr>\n",
       "      <th>3</th>\n",
       "      <td>4</td>\n",
       "      <td>101</td>\n",
       "      <td>1</td>\n",
       "      <td>11120002</td>\n",
       "      <td>10.05000</td>\n",
       "      <td>54.3167</td>\n",
       "      <td>30</td>\n",
       "      <td>32</td>\n",
       "      <td>1</td>\n",
       "      <td>Kiel-Mettenhof</td>\n",
       "      <td>2017-03-14 12:44:00</td>\n",
       "    </tr>\n",
       "    <tr>\n",
       "      <th>4</th>\n",
       "      <td>5</td>\n",
       "      <td>101</td>\n",
       "      <td>1</td>\n",
       "      <td>11130000</td>\n",
       "      <td>10.68330</td>\n",
       "      <td>53.8833</td>\n",
       "      <td>10</td>\n",
       "      <td>29</td>\n",
       "      <td>1</td>\n",
       "      <td>Lübeck-Schlutup</td>\n",
       "      <td>2017-03-14 12:45:00</td>\n",
       "    </tr>\n",
       "  </tbody>\n",
       "</table>\n",
       "</div>"
      ],
      "text/plain": [
       "   s_id  provider_id  country_id    nat_id       lon      lat  alt  alt_dem  \\\n",
       "0     1          101           1  11110000   9.43333  54.7667   25       34   \n",
       "1     2          101           1  11120000  10.15000  54.4000   25       31   \n",
       "2     3          101           1  11120001  10.15000  54.3333   29       29   \n",
       "3     4          101           1  11120002  10.05000  54.3167   30       32   \n",
       "4     5          101           1  11130000  10.68330  53.8833   10       29   \n",
       "\n",
       "   qc_flag                                   name              lastmod  \n",
       "0        1  Flensburg, kreisfreie Stadt Flensburg  2017-03-14 12:42:00  \n",
       "1        1                             Kiel-Pries  2017-03-14 12:44:00  \n",
       "2        1                      Kiel-Düsternbrook  2017-03-14 12:44:00  \n",
       "3        1                         Kiel-Mettenhof  2017-03-14 12:44:00  \n",
       "4        1                        Lübeck-Schlutup  2017-03-14 12:45:00  "
      ]
     },
     "execution_count": 21,
     "metadata": {},
     "output_type": "execute_result"
    }
   ],
   "source": [
    "#Reading the csv with the station names (the file lists all stations, not only the German stations)\n",
    "file_path = os.path.join(p_cwd, \"data\",\"other_data\",\"pep725_stations.csv\")\n",
    "df_stations = pd.read_csv(file_path, sep=';', encoding='utf-8')\n",
    "df_stations.head()"
   ]
  },
  {
   "cell_type": "code",
   "execution_count": 22,
   "metadata": {},
   "outputs": [
    {
     "data": {
      "text/plain": [
       "26597"
      ]
     },
     "execution_count": 22,
     "metadata": {},
     "output_type": "execute_result"
    }
   ],
   "source": [
    "len(df_stations)"
   ]
  },
  {
   "cell_type": "code",
   "execution_count": 23,
   "metadata": {},
   "outputs": [
    {
     "data": {
      "text/html": [
       "<div>\n",
       "<style scoped>\n",
       "    .dataframe tbody tr th:only-of-type {\n",
       "        vertical-align: middle;\n",
       "    }\n",
       "\n",
       "    .dataframe tbody tr th {\n",
       "        vertical-align: top;\n",
       "    }\n",
       "\n",
       "    .dataframe thead th {\n",
       "        text-align: right;\n",
       "    }\n",
       "</style>\n",
       "<table border=\"1\" class=\"dataframe\">\n",
       "  <thead>\n",
       "    <tr style=\"text-align: right;\">\n",
       "      <th></th>\n",
       "      <th>s_id</th>\n",
       "      <th>provider_id</th>\n",
       "      <th>country_id</th>\n",
       "      <th>nat_id</th>\n",
       "      <th>lon</th>\n",
       "      <th>lat</th>\n",
       "      <th>alt</th>\n",
       "      <th>alt_dem</th>\n",
       "      <th>qc_flag</th>\n",
       "      <th>name</th>\n",
       "      <th>lastmod</th>\n",
       "    </tr>\n",
       "  </thead>\n",
       "  <tbody>\n",
       "    <tr>\n",
       "      <th>0</th>\n",
       "      <td>1</td>\n",
       "      <td>101</td>\n",
       "      <td>1</td>\n",
       "      <td>11110000</td>\n",
       "      <td>9.43333</td>\n",
       "      <td>54.7667</td>\n",
       "      <td>25</td>\n",
       "      <td>34</td>\n",
       "      <td>1</td>\n",
       "      <td>Flensburg, kreisfreie Stadt Flensburg</td>\n",
       "      <td>2017-03-14 12:42:00</td>\n",
       "    </tr>\n",
       "    <tr>\n",
       "      <th>1</th>\n",
       "      <td>2</td>\n",
       "      <td>101</td>\n",
       "      <td>1</td>\n",
       "      <td>11120000</td>\n",
       "      <td>10.15000</td>\n",
       "      <td>54.4000</td>\n",
       "      <td>25</td>\n",
       "      <td>31</td>\n",
       "      <td>1</td>\n",
       "      <td>Kiel-Pries</td>\n",
       "      <td>2017-03-14 12:44:00</td>\n",
       "    </tr>\n",
       "    <tr>\n",
       "      <th>2</th>\n",
       "      <td>3</td>\n",
       "      <td>101</td>\n",
       "      <td>1</td>\n",
       "      <td>11120001</td>\n",
       "      <td>10.15000</td>\n",
       "      <td>54.3333</td>\n",
       "      <td>29</td>\n",
       "      <td>29</td>\n",
       "      <td>1</td>\n",
       "      <td>Kiel-Düsternbrook</td>\n",
       "      <td>2017-03-14 12:44:00</td>\n",
       "    </tr>\n",
       "    <tr>\n",
       "      <th>3</th>\n",
       "      <td>4</td>\n",
       "      <td>101</td>\n",
       "      <td>1</td>\n",
       "      <td>11120002</td>\n",
       "      <td>10.05000</td>\n",
       "      <td>54.3167</td>\n",
       "      <td>30</td>\n",
       "      <td>32</td>\n",
       "      <td>1</td>\n",
       "      <td>Kiel-Mettenhof</td>\n",
       "      <td>2017-03-14 12:44:00</td>\n",
       "    </tr>\n",
       "    <tr>\n",
       "      <th>4</th>\n",
       "      <td>5</td>\n",
       "      <td>101</td>\n",
       "      <td>1</td>\n",
       "      <td>11130000</td>\n",
       "      <td>10.68330</td>\n",
       "      <td>53.8833</td>\n",
       "      <td>10</td>\n",
       "      <td>29</td>\n",
       "      <td>1</td>\n",
       "      <td>Lübeck-Schlutup</td>\n",
       "      <td>2017-03-14 12:45:00</td>\n",
       "    </tr>\n",
       "  </tbody>\n",
       "</table>\n",
       "</div>"
      ],
      "text/plain": [
       "   s_id  provider_id  country_id    nat_id       lon      lat  alt  alt_dem  \\\n",
       "0     1          101           1  11110000   9.43333  54.7667   25       34   \n",
       "1     2          101           1  11120000  10.15000  54.4000   25       31   \n",
       "2     3          101           1  11120001  10.15000  54.3333   29       29   \n",
       "3     4          101           1  11120002  10.05000  54.3167   30       32   \n",
       "4     5          101           1  11130000  10.68330  53.8833   10       29   \n",
       "\n",
       "   qc_flag                                   name              lastmod  \n",
       "0        1  Flensburg, kreisfreie Stadt Flensburg  2017-03-14 12:42:00  \n",
       "1        1                             Kiel-Pries  2017-03-14 12:44:00  \n",
       "2        1                      Kiel-Düsternbrook  2017-03-14 12:44:00  \n",
       "3        1                         Kiel-Mettenhof  2017-03-14 12:44:00  \n",
       "4        1                        Lübeck-Schlutup  2017-03-14 12:45:00  "
      ]
     },
     "execution_count": 23,
     "metadata": {},
     "output_type": "execute_result"
    }
   ],
   "source": [
    "#Extracting the German stations\n",
    "df_stations_de = df_stations.loc[df_stations['s_id'].isin(lst_stations)]\n",
    "df_stations_de.head()"
   ]
  },
  {
   "cell_type": "code",
   "execution_count": 24,
   "metadata": {},
   "outputs": [
    {
     "data": {
      "text/plain": [
       "6773"
      ]
     },
     "execution_count": 24,
     "metadata": {},
     "output_type": "execute_result"
    }
   ],
   "source": [
    "len(df_stations_de)"
   ]
  },
  {
   "cell_type": "code",
   "execution_count": 25,
   "metadata": {},
   "outputs": [
    {
     "data": {
      "text/plain": [
       "array(['11110000', '11120000', '11120001', ..., '19031', '19101', '15993'],\n",
       "      dtype=object)"
      ]
     },
     "execution_count": 25,
     "metadata": {},
     "output_type": "execute_result"
    }
   ],
   "source": [
    "df_stations_de['nat_id'].unique()"
   ]
  },
  {
   "cell_type": "code",
   "execution_count": 26,
   "metadata": {},
   "outputs": [
    {
     "name": "stderr",
     "output_type": "stream",
     "text": [
      "/Users/giudittaparolini/anaconda3/envs/testenv/lib/python3.7/site-packages/pandas/core/frame.py:4315: SettingWithCopyWarning: \n",
      "A value is trying to be set on a copy of a slice from a DataFrame\n",
      "\n",
      "See the caveats in the documentation: https://pandas.pydata.org/pandas-docs/stable/user_guide/indexing.html#returning-a-view-versus-a-copy\n",
      "  errors=errors,\n"
     ]
    },
    {
     "data": {
      "text/html": [
       "<div>\n",
       "<style scoped>\n",
       "    .dataframe tbody tr th:only-of-type {\n",
       "        vertical-align: middle;\n",
       "    }\n",
       "\n",
       "    .dataframe tbody tr th {\n",
       "        vertical-align: top;\n",
       "    }\n",
       "\n",
       "    .dataframe thead th {\n",
       "        text-align: right;\n",
       "    }\n",
       "</style>\n",
       "<table border=\"1\" class=\"dataframe\">\n",
       "  <thead>\n",
       "    <tr style=\"text-align: right;\">\n",
       "      <th></th>\n",
       "      <th>s_id</th>\n",
       "      <th>lon</th>\n",
       "      <th>lat</th>\n",
       "      <th>name</th>\n",
       "    </tr>\n",
       "  </thead>\n",
       "  <tbody>\n",
       "    <tr>\n",
       "      <th>0</th>\n",
       "      <td>1</td>\n",
       "      <td>9.43333</td>\n",
       "      <td>54.7667</td>\n",
       "      <td>Flensburg, kreisfreie Stadt Flensburg</td>\n",
       "    </tr>\n",
       "    <tr>\n",
       "      <th>1</th>\n",
       "      <td>2</td>\n",
       "      <td>10.15000</td>\n",
       "      <td>54.4000</td>\n",
       "      <td>Kiel-Pries</td>\n",
       "    </tr>\n",
       "    <tr>\n",
       "      <th>2</th>\n",
       "      <td>3</td>\n",
       "      <td>10.15000</td>\n",
       "      <td>54.3333</td>\n",
       "      <td>Kiel-Düsternbrook</td>\n",
       "    </tr>\n",
       "    <tr>\n",
       "      <th>3</th>\n",
       "      <td>4</td>\n",
       "      <td>10.05000</td>\n",
       "      <td>54.3167</td>\n",
       "      <td>Kiel-Mettenhof</td>\n",
       "    </tr>\n",
       "    <tr>\n",
       "      <th>4</th>\n",
       "      <td>5</td>\n",
       "      <td>10.68330</td>\n",
       "      <td>53.8833</td>\n",
       "      <td>Lübeck-Schlutup</td>\n",
       "    </tr>\n",
       "  </tbody>\n",
       "</table>\n",
       "</div>"
      ],
      "text/plain": [
       "   s_id       lon      lat                                   name\n",
       "0     1   9.43333  54.7667  Flensburg, kreisfreie Stadt Flensburg\n",
       "1     2  10.15000  54.4000                             Kiel-Pries\n",
       "2     3  10.15000  54.3333                      Kiel-Düsternbrook\n",
       "3     4  10.05000  54.3167                         Kiel-Mettenhof\n",
       "4     5  10.68330  53.8833                        Lübeck-Schlutup"
      ]
     },
     "execution_count": 26,
     "metadata": {},
     "output_type": "execute_result"
    }
   ],
   "source": [
    "#Keeping only the required information\n",
    "df_stations_de.drop(['provider_id', 'country_id', 'nat_id', 'alt', 'alt_dem',\n",
    "                  'qc_flag', 'lastmod'], axis=1, inplace=True)\n",
    "df_stations_de.head()"
   ]
  },
  {
   "cell_type": "code",
   "execution_count": 27,
   "metadata": {},
   "outputs": [],
   "source": [
    "#Saving the df of German stations as a csv file\n",
    "df_stations_de.to_csv(os.path.join(p_cwd, \"data\", \"de_phen_stations_from_df.csv\"), index=False)"
   ]
  },
  {
   "cell_type": "markdown",
   "metadata": {},
   "source": [
    "## Genera and species"
   ]
  },
  {
   "cell_type": "code",
   "execution_count": 28,
   "metadata": {},
   "outputs": [
    {
     "data": {
      "text/html": [
       "<div>\n",
       "<style scoped>\n",
       "    .dataframe tbody tr th:only-of-type {\n",
       "        vertical-align: middle;\n",
       "    }\n",
       "\n",
       "    .dataframe tbody tr th {\n",
       "        vertical-align: top;\n",
       "    }\n",
       "\n",
       "    .dataframe thead th {\n",
       "        text-align: right;\n",
       "    }\n",
       "</style>\n",
       "<table border=\"1\" class=\"dataframe\">\n",
       "  <thead>\n",
       "    <tr style=\"text-align: right;\">\n",
       "      <th></th>\n",
       "      <th></th>\n",
       "      <th>0</th>\n",
       "    </tr>\n",
       "    <tr>\n",
       "      <th>genus</th>\n",
       "      <th>species</th>\n",
       "      <th></th>\n",
       "    </tr>\n",
       "  </thead>\n",
       "  <tbody>\n",
       "    <tr>\n",
       "      <th>Hordeum</th>\n",
       "      <th>Hordeum vulgare</th>\n",
       "      <td>716812</td>\n",
       "    </tr>\n",
       "    <tr>\n",
       "      <th>Aesculus</th>\n",
       "      <th>Aesculus hippocastanum</th>\n",
       "      <td>599214</td>\n",
       "    </tr>\n",
       "    <tr>\n",
       "      <th>Solanum</th>\n",
       "      <th>Solanum tuberosum</th>\n",
       "      <td>541279</td>\n",
       "    </tr>\n",
       "    <tr>\n",
       "      <th>Triticum</th>\n",
       "      <th>Triticum aestivum</th>\n",
       "      <td>456213</td>\n",
       "    </tr>\n",
       "    <tr>\n",
       "      <th>Prunus</th>\n",
       "      <th>Prunus cerasus</th>\n",
       "      <td>452002</td>\n",
       "    </tr>\n",
       "  </tbody>\n",
       "</table>\n",
       "</div>"
      ],
      "text/plain": [
       "                                      0\n",
       "genus    species                       \n",
       "Hordeum  Hordeum vulgare         716812\n",
       "Aesculus Aesculus hippocastanum  599214\n",
       "Solanum  Solanum tuberosum       541279\n",
       "Triticum Triticum aestivum       456213\n",
       "Prunus   Prunus cerasus          452002"
      ]
     },
     "execution_count": 28,
     "metadata": {},
     "output_type": "execute_result"
    }
   ],
   "source": [
    "#Evaluating the size of genus/species groups\n",
    "df_gen_spec = pd.DataFrame(df.groupby(by=['genus', 'species']).size().sort_values(ascending=False))\n",
    "df_gen_spec.rename(columns={0:'count'})\n",
    "df_gen_spec.head()"
   ]
  },
  {
   "cell_type": "code",
   "execution_count": 29,
   "metadata": {},
   "outputs": [],
   "source": [
    "df_gen_spec.to_csv(os.path.join(p_cwd, \"output\", \"printouts\", \"gen_spec_count.csv\")) "
   ]
  },
  {
   "cell_type": "markdown",
   "metadata": {},
   "source": [
    "## Preparing the dataset for further analysis"
   ]
  },
  {
   "cell_type": "code",
   "execution_count": 30,
   "metadata": {},
   "outputs": [],
   "source": [
    "# Dropping the columns not relevant for the machine learning work\n",
    "df.drop(['provider_id','qc_flag', 'qc_ori_flag'], axis=1, inplace=True)"
   ]
  },
  {
   "cell_type": "code",
   "execution_count": 31,
   "metadata": {},
   "outputs": [
    {
     "data": {
      "text/html": [
       "<div>\n",
       "<style scoped>\n",
       "    .dataframe tbody tr th:only-of-type {\n",
       "        vertical-align: middle;\n",
       "    }\n",
       "\n",
       "    .dataframe tbody tr th {\n",
       "        vertical-align: top;\n",
       "    }\n",
       "\n",
       "    .dataframe thead th {\n",
       "        text-align: right;\n",
       "    }\n",
       "</style>\n",
       "<table border=\"1\" class=\"dataframe\">\n",
       "  <thead>\n",
       "    <tr style=\"text-align: right;\">\n",
       "      <th></th>\n",
       "      <th>s_id</th>\n",
       "      <th>lon</th>\n",
       "      <th>lat</th>\n",
       "      <th>alt</th>\n",
       "      <th>alt_dem</th>\n",
       "      <th>gss_id</th>\n",
       "      <th>genus</th>\n",
       "      <th>species</th>\n",
       "      <th>phase_id</th>\n",
       "      <th>year</th>\n",
       "      <th>day</th>\n",
       "      <th>date</th>\n",
       "      <th>cult_season</th>\n",
       "      <th>affected_flag</th>\n",
       "    </tr>\n",
       "  </thead>\n",
       "  <tbody>\n",
       "    <tr>\n",
       "      <th>0</th>\n",
       "      <td>5144</td>\n",
       "      <td>11.23330</td>\n",
       "      <td>53.9833</td>\n",
       "      <td>5</td>\n",
       "      <td>0</td>\n",
       "      <td>2390300</td>\n",
       "      <td>Tilia</td>\n",
       "      <td>Tilia platyphyllos</td>\n",
       "      <td>60</td>\n",
       "      <td>1951</td>\n",
       "      <td>2</td>\n",
       "      <td>1951-01-02</td>\n",
       "      <td>0</td>\n",
       "      <td>0</td>\n",
       "    </tr>\n",
       "    <tr>\n",
       "      <th>1</th>\n",
       "      <td>2255</td>\n",
       "      <td>8.96667</td>\n",
       "      <td>51.3333</td>\n",
       "      <td>250</td>\n",
       "      <td>256</td>\n",
       "      <td>1360100</td>\n",
       "      <td>Corylus</td>\n",
       "      <td>Corylus avellana</td>\n",
       "      <td>60</td>\n",
       "      <td>1951</td>\n",
       "      <td>5</td>\n",
       "      <td>1951-01-05</td>\n",
       "      <td>0</td>\n",
       "      <td>0</td>\n",
       "    </tr>\n",
       "    <tr>\n",
       "      <th>2</th>\n",
       "      <td>1967</td>\n",
       "      <td>9.00000</td>\n",
       "      <td>49.6667</td>\n",
       "      <td>220</td>\n",
       "      <td>221</td>\n",
       "      <td>1360100</td>\n",
       "      <td>Corylus</td>\n",
       "      <td>Corylus avellana</td>\n",
       "      <td>60</td>\n",
       "      <td>1951</td>\n",
       "      <td>6</td>\n",
       "      <td>1951-01-06</td>\n",
       "      <td>0</td>\n",
       "      <td>0</td>\n",
       "    </tr>\n",
       "    <tr>\n",
       "      <th>3</th>\n",
       "      <td>4014</td>\n",
       "      <td>10.93330</td>\n",
       "      <td>49.8000</td>\n",
       "      <td>260</td>\n",
       "      <td>242</td>\n",
       "      <td>1360100</td>\n",
       "      <td>Corylus</td>\n",
       "      <td>Corylus avellana</td>\n",
       "      <td>60</td>\n",
       "      <td>1951</td>\n",
       "      <td>7</td>\n",
       "      <td>1951-01-07</td>\n",
       "      <td>0</td>\n",
       "      <td>0</td>\n",
       "    </tr>\n",
       "    <tr>\n",
       "      <th>4</th>\n",
       "      <td>512</td>\n",
       "      <td>10.13330</td>\n",
       "      <td>52.0167</td>\n",
       "      <td>120</td>\n",
       "      <td>122</td>\n",
       "      <td>1600100</td>\n",
       "      <td>Galanthus</td>\n",
       "      <td>Galanthus nivalis</td>\n",
       "      <td>60</td>\n",
       "      <td>1951</td>\n",
       "      <td>10</td>\n",
       "      <td>1951-01-10</td>\n",
       "      <td>0</td>\n",
       "      <td>0</td>\n",
       "    </tr>\n",
       "  </tbody>\n",
       "</table>\n",
       "</div>"
      ],
      "text/plain": [
       "   s_id       lon      lat  alt  alt_dem   gss_id      genus  \\\n",
       "0  5144  11.23330  53.9833    5        0  2390300      Tilia   \n",
       "1  2255   8.96667  51.3333  250      256  1360100    Corylus   \n",
       "2  1967   9.00000  49.6667  220      221  1360100    Corylus   \n",
       "3  4014  10.93330  49.8000  260      242  1360100    Corylus   \n",
       "4   512  10.13330  52.0167  120      122  1600100  Galanthus   \n",
       "\n",
       "              species  phase_id  year  day        date  cult_season  \\\n",
       "0  Tilia platyphyllos        60  1951    2  1951-01-02            0   \n",
       "1    Corylus avellana        60  1951    5  1951-01-05            0   \n",
       "2    Corylus avellana        60  1951    6  1951-01-06            0   \n",
       "3    Corylus avellana        60  1951    7  1951-01-07            0   \n",
       "4   Galanthus nivalis        60  1951   10  1951-01-10            0   \n",
       "\n",
       "   affected_flag  \n",
       "0              0  \n",
       "1              0  \n",
       "2              0  \n",
       "3              0  \n",
       "4              0  "
      ]
     },
     "execution_count": 31,
     "metadata": {},
     "output_type": "execute_result"
    }
   ],
   "source": [
    "df.head()"
   ]
  },
  {
   "cell_type": "code",
   "execution_count": 32,
   "metadata": {},
   "outputs": [],
   "source": [
    "#Removing the observations with an affected flag\n",
    "df_fin = df[df['affected_flag'] != 1]"
   ]
  },
  {
   "cell_type": "code",
   "execution_count": 33,
   "metadata": {},
   "outputs": [
    {
     "data": {
      "text/plain": [
       "10793115"
      ]
     },
     "execution_count": 33,
     "metadata": {},
     "output_type": "execute_result"
    }
   ],
   "source": [
    "df_fin.head()\n",
    "len(df_fin) \n",
    "#checking that len(df_fin) is the same as the number of obs with affected flag=0"
   ]
  },
  {
   "cell_type": "code",
   "execution_count": 34,
   "metadata": {},
   "outputs": [
    {
     "name": "stderr",
     "output_type": "stream",
     "text": [
      "/Users/giudittaparolini/anaconda3/envs/testenv/lib/python3.7/site-packages/pandas/core/frame.py:4315: SettingWithCopyWarning: \n",
      "A value is trying to be set on a copy of a slice from a DataFrame\n",
      "\n",
      "See the caveats in the documentation: https://pandas.pydata.org/pandas-docs/stable/user_guide/indexing.html#returning-a-view-versus-a-copy\n",
      "  errors=errors,\n"
     ]
    }
   ],
   "source": [
    "df_fin.drop('affected_flag', axis=1, inplace=True)"
   ]
  },
  {
   "cell_type": "code",
   "execution_count": 35,
   "metadata": {},
   "outputs": [
    {
     "data": {
      "text/html": [
       "<div>\n",
       "<style scoped>\n",
       "    .dataframe tbody tr th:only-of-type {\n",
       "        vertical-align: middle;\n",
       "    }\n",
       "\n",
       "    .dataframe tbody tr th {\n",
       "        vertical-align: top;\n",
       "    }\n",
       "\n",
       "    .dataframe thead th {\n",
       "        text-align: right;\n",
       "    }\n",
       "</style>\n",
       "<table border=\"1\" class=\"dataframe\">\n",
       "  <thead>\n",
       "    <tr style=\"text-align: right;\">\n",
       "      <th></th>\n",
       "      <th>s_id</th>\n",
       "      <th>lon</th>\n",
       "      <th>lat</th>\n",
       "      <th>alt</th>\n",
       "      <th>alt_dem</th>\n",
       "      <th>gss_id</th>\n",
       "      <th>genus</th>\n",
       "      <th>species</th>\n",
       "      <th>phase_id</th>\n",
       "      <th>year</th>\n",
       "      <th>day</th>\n",
       "      <th>date</th>\n",
       "      <th>cult_season</th>\n",
       "    </tr>\n",
       "  </thead>\n",
       "  <tbody>\n",
       "    <tr>\n",
       "      <th>0</th>\n",
       "      <td>5144</td>\n",
       "      <td>11.23330</td>\n",
       "      <td>53.9833</td>\n",
       "      <td>5</td>\n",
       "      <td>0</td>\n",
       "      <td>2390300</td>\n",
       "      <td>Tilia</td>\n",
       "      <td>Tilia platyphyllos</td>\n",
       "      <td>60</td>\n",
       "      <td>1951</td>\n",
       "      <td>2</td>\n",
       "      <td>1951-01-02</td>\n",
       "      <td>0</td>\n",
       "    </tr>\n",
       "    <tr>\n",
       "      <th>1</th>\n",
       "      <td>2255</td>\n",
       "      <td>8.96667</td>\n",
       "      <td>51.3333</td>\n",
       "      <td>250</td>\n",
       "      <td>256</td>\n",
       "      <td>1360100</td>\n",
       "      <td>Corylus</td>\n",
       "      <td>Corylus avellana</td>\n",
       "      <td>60</td>\n",
       "      <td>1951</td>\n",
       "      <td>5</td>\n",
       "      <td>1951-01-05</td>\n",
       "      <td>0</td>\n",
       "    </tr>\n",
       "    <tr>\n",
       "      <th>2</th>\n",
       "      <td>1967</td>\n",
       "      <td>9.00000</td>\n",
       "      <td>49.6667</td>\n",
       "      <td>220</td>\n",
       "      <td>221</td>\n",
       "      <td>1360100</td>\n",
       "      <td>Corylus</td>\n",
       "      <td>Corylus avellana</td>\n",
       "      <td>60</td>\n",
       "      <td>1951</td>\n",
       "      <td>6</td>\n",
       "      <td>1951-01-06</td>\n",
       "      <td>0</td>\n",
       "    </tr>\n",
       "    <tr>\n",
       "      <th>3</th>\n",
       "      <td>4014</td>\n",
       "      <td>10.93330</td>\n",
       "      <td>49.8000</td>\n",
       "      <td>260</td>\n",
       "      <td>242</td>\n",
       "      <td>1360100</td>\n",
       "      <td>Corylus</td>\n",
       "      <td>Corylus avellana</td>\n",
       "      <td>60</td>\n",
       "      <td>1951</td>\n",
       "      <td>7</td>\n",
       "      <td>1951-01-07</td>\n",
       "      <td>0</td>\n",
       "    </tr>\n",
       "    <tr>\n",
       "      <th>4</th>\n",
       "      <td>512</td>\n",
       "      <td>10.13330</td>\n",
       "      <td>52.0167</td>\n",
       "      <td>120</td>\n",
       "      <td>122</td>\n",
       "      <td>1600100</td>\n",
       "      <td>Galanthus</td>\n",
       "      <td>Galanthus nivalis</td>\n",
       "      <td>60</td>\n",
       "      <td>1951</td>\n",
       "      <td>10</td>\n",
       "      <td>1951-01-10</td>\n",
       "      <td>0</td>\n",
       "    </tr>\n",
       "  </tbody>\n",
       "</table>\n",
       "</div>"
      ],
      "text/plain": [
       "   s_id       lon      lat  alt  alt_dem   gss_id      genus  \\\n",
       "0  5144  11.23330  53.9833    5        0  2390300      Tilia   \n",
       "1  2255   8.96667  51.3333  250      256  1360100    Corylus   \n",
       "2  1967   9.00000  49.6667  220      221  1360100    Corylus   \n",
       "3  4014  10.93330  49.8000  260      242  1360100    Corylus   \n",
       "4   512  10.13330  52.0167  120      122  1600100  Galanthus   \n",
       "\n",
       "              species  phase_id  year  day        date  cult_season  \n",
       "0  Tilia platyphyllos        60  1951    2  1951-01-02            0  \n",
       "1    Corylus avellana        60  1951    5  1951-01-05            0  \n",
       "2    Corylus avellana        60  1951    6  1951-01-06            0  \n",
       "3    Corylus avellana        60  1951    7  1951-01-07            0  \n",
       "4   Galanthus nivalis        60  1951   10  1951-01-10            0  "
      ]
     },
     "execution_count": 35,
     "metadata": {},
     "output_type": "execute_result"
    }
   ],
   "source": [
    "df_fin.head()"
   ]
  },
  {
   "cell_type": "code",
   "execution_count": 36,
   "metadata": {},
   "outputs": [],
   "source": [
    "df_fin.to_csv(os.path.join(p_cwd, \"data\", \"phen_data_further_analysis.csv\"), index=False)"
   ]
  }
 ],
 "metadata": {
  "kernelspec": {
   "display_name": "Python 3",
   "language": "python",
   "name": "python3"
  },
  "language_info": {
   "codemirror_mode": {
    "name": "ipython",
    "version": 3
   },
   "file_extension": ".py",
   "mimetype": "text/x-python",
   "name": "python",
   "nbconvert_exporter": "python",
   "pygments_lexer": "ipython3",
   "version": "3.7.7"
  }
 },
 "nbformat": 4,
 "nbformat_minor": 5
}
