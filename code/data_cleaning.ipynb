{
 "cells": [
  {
   "cell_type": "code",
   "execution_count": 1,
   "metadata": {},
   "outputs": [],
   "source": [
    "from pathlib import Path\n",
    "import os\n",
    "import pandas as pd"
   ]
  },
  {
   "cell_type": "code",
   "execution_count": 2,
   "metadata": {},
   "outputs": [],
   "source": [
    "cwd =os.getcwd()\n",
    "p_cwd = Path(cwd).parent.absolute()\n",
    "filename = \"phen_data.csv\""
   ]
  },
  {
   "cell_type": "code",
   "execution_count": 3,
   "metadata": {},
   "outputs": [],
   "source": [
    "df = pd.read_csv(os.path.join(p_cwd, \"data\", filename), parse_dates=True, low_memory=False)"
   ]
  },
  {
   "cell_type": "code",
   "execution_count": 4,
   "metadata": {},
   "outputs": [
    {
     "data": {
      "text/plain": [
       "(11194620, 18)"
      ]
     },
     "execution_count": 4,
     "metadata": {},
     "output_type": "execute_result"
    }
   ],
   "source": [
    "df.shape"
   ]
  },
  {
   "cell_type": "code",
   "execution_count": 5,
   "metadata": {},
   "outputs": [],
   "source": [
    "obs = df.shape[0]"
   ]
  },
  {
   "cell_type": "code",
   "execution_count": 6,
   "metadata": {},
   "outputs": [
    {
     "data": {
      "text/plain": [
       "11194620"
      ]
     },
     "execution_count": 6,
     "metadata": {},
     "output_type": "execute_result"
    }
   ],
   "source": [
    "obs"
   ]
  },
  {
   "cell_type": "code",
   "execution_count": 7,
   "metadata": {},
   "outputs": [
    {
     "data": {
      "text/html": [
       "<div>\n",
       "<style scoped>\n",
       "    .dataframe tbody tr th:only-of-type {\n",
       "        vertical-align: middle;\n",
       "    }\n",
       "\n",
       "    .dataframe tbody tr th {\n",
       "        vertical-align: top;\n",
       "    }\n",
       "\n",
       "    .dataframe thead th {\n",
       "        text-align: right;\n",
       "    }\n",
       "</style>\n",
       "<table border=\"1\" class=\"dataframe\">\n",
       "  <thead>\n",
       "    <tr style=\"text-align: right;\">\n",
       "      <th></th>\n",
       "      <th>s_id</th>\n",
       "      <th>provider_id</th>\n",
       "      <th>lon</th>\n",
       "      <th>lat</th>\n",
       "      <th>alt</th>\n",
       "      <th>alt_dem</th>\n",
       "      <th>gss_id</th>\n",
       "      <th>genus</th>\n",
       "      <th>species</th>\n",
       "      <th>subspecies</th>\n",
       "      <th>phase_id</th>\n",
       "      <th>year</th>\n",
       "      <th>day</th>\n",
       "      <th>date</th>\n",
       "      <th>cult_season</th>\n",
       "      <th>affected_flag</th>\n",
       "      <th>qc_flag</th>\n",
       "      <th>qc_ori_flag</th>\n",
       "    </tr>\n",
       "  </thead>\n",
       "  <tbody>\n",
       "    <tr>\n",
       "      <th>0</th>\n",
       "      <td>5144</td>\n",
       "      <td>101</td>\n",
       "      <td>11.23330</td>\n",
       "      <td>53.9833</td>\n",
       "      <td>5</td>\n",
       "      <td>0</td>\n",
       "      <td>2390300</td>\n",
       "      <td>Tilia</td>\n",
       "      <td>Tilia platyphyllos</td>\n",
       "      <td>NaN</td>\n",
       "      <td>60</td>\n",
       "      <td>1951</td>\n",
       "      <td>2</td>\n",
       "      <td>1951-01-02</td>\n",
       "      <td>0</td>\n",
       "      <td>0</td>\n",
       "      <td>0</td>\n",
       "      <td>0</td>\n",
       "    </tr>\n",
       "    <tr>\n",
       "      <th>1</th>\n",
       "      <td>2255</td>\n",
       "      <td>101</td>\n",
       "      <td>8.96667</td>\n",
       "      <td>51.3333</td>\n",
       "      <td>250</td>\n",
       "      <td>256</td>\n",
       "      <td>1360100</td>\n",
       "      <td>Corylus</td>\n",
       "      <td>Corylus avellana</td>\n",
       "      <td>NaN</td>\n",
       "      <td>60</td>\n",
       "      <td>1951</td>\n",
       "      <td>5</td>\n",
       "      <td>1951-01-05</td>\n",
       "      <td>0</td>\n",
       "      <td>0</td>\n",
       "      <td>0</td>\n",
       "      <td>0</td>\n",
       "    </tr>\n",
       "    <tr>\n",
       "      <th>2</th>\n",
       "      <td>1967</td>\n",
       "      <td>101</td>\n",
       "      <td>9.00000</td>\n",
       "      <td>49.6667</td>\n",
       "      <td>220</td>\n",
       "      <td>221</td>\n",
       "      <td>1360100</td>\n",
       "      <td>Corylus</td>\n",
       "      <td>Corylus avellana</td>\n",
       "      <td>NaN</td>\n",
       "      <td>60</td>\n",
       "      <td>1951</td>\n",
       "      <td>6</td>\n",
       "      <td>1951-01-06</td>\n",
       "      <td>0</td>\n",
       "      <td>0</td>\n",
       "      <td>0</td>\n",
       "      <td>0</td>\n",
       "    </tr>\n",
       "    <tr>\n",
       "      <th>3</th>\n",
       "      <td>4014</td>\n",
       "      <td>101</td>\n",
       "      <td>10.93330</td>\n",
       "      <td>49.8000</td>\n",
       "      <td>260</td>\n",
       "      <td>242</td>\n",
       "      <td>1360100</td>\n",
       "      <td>Corylus</td>\n",
       "      <td>Corylus avellana</td>\n",
       "      <td>NaN</td>\n",
       "      <td>60</td>\n",
       "      <td>1951</td>\n",
       "      <td>7</td>\n",
       "      <td>1951-01-07</td>\n",
       "      <td>0</td>\n",
       "      <td>0</td>\n",
       "      <td>0</td>\n",
       "      <td>0</td>\n",
       "    </tr>\n",
       "    <tr>\n",
       "      <th>4</th>\n",
       "      <td>512</td>\n",
       "      <td>101</td>\n",
       "      <td>10.13330</td>\n",
       "      <td>52.0167</td>\n",
       "      <td>120</td>\n",
       "      <td>122</td>\n",
       "      <td>1600100</td>\n",
       "      <td>Galanthus</td>\n",
       "      <td>Galanthus nivalis</td>\n",
       "      <td>NaN</td>\n",
       "      <td>60</td>\n",
       "      <td>1951</td>\n",
       "      <td>10</td>\n",
       "      <td>1951-01-10</td>\n",
       "      <td>0</td>\n",
       "      <td>0</td>\n",
       "      <td>0</td>\n",
       "      <td>0</td>\n",
       "    </tr>\n",
       "  </tbody>\n",
       "</table>\n",
       "</div>"
      ],
      "text/plain": [
       "   s_id  provider_id       lon      lat  alt  alt_dem   gss_id      genus  \\\n",
       "0  5144          101  11.23330  53.9833    5        0  2390300      Tilia   \n",
       "1  2255          101   8.96667  51.3333  250      256  1360100    Corylus   \n",
       "2  1967          101   9.00000  49.6667  220      221  1360100    Corylus   \n",
       "3  4014          101  10.93330  49.8000  260      242  1360100    Corylus   \n",
       "4   512          101  10.13330  52.0167  120      122  1600100  Galanthus   \n",
       "\n",
       "              species subspecies  phase_id  year  day        date  \\\n",
       "0  Tilia platyphyllos        NaN        60  1951    2  1951-01-02   \n",
       "1    Corylus avellana        NaN        60  1951    5  1951-01-05   \n",
       "2    Corylus avellana        NaN        60  1951    6  1951-01-06   \n",
       "3    Corylus avellana        NaN        60  1951    7  1951-01-07   \n",
       "4   Galanthus nivalis        NaN        60  1951   10  1951-01-10   \n",
       "\n",
       "   cult_season  affected_flag  qc_flag  qc_ori_flag  \n",
       "0            0              0        0            0  \n",
       "1            0              0        0            0  \n",
       "2            0              0        0            0  \n",
       "3            0              0        0            0  \n",
       "4            0              0        0            0  "
      ]
     },
     "execution_count": 7,
     "metadata": {},
     "output_type": "execute_result"
    }
   ],
   "source": [
    "df.head()"
   ]
  },
  {
   "cell_type": "code",
   "execution_count": 8,
   "metadata": {},
   "outputs": [],
   "source": [
    "station_counts = df['s_id'].unique()"
   ]
  },
  {
   "cell_type": "code",
   "execution_count": 9,
   "metadata": {},
   "outputs": [],
   "source": [
    "genus_counts = df['genus'].unique()"
   ]
  },
  {
   "cell_type": "code",
   "execution_count": 10,
   "metadata": {},
   "outputs": [
    {
     "data": {
      "text/plain": [
       "array(['Tilia', 'Corylus', 'Galanthus', 'Salix', 'Aesculus', 'Alnus',\n",
       "       'Ribes', 'Anemone', 'Forsythia', 'Tussilago', 'Hordeum', 'Avena',\n",
       "       'Dactylis', 'Taraxacum', 'Prunus', 'Betula', 'Beta', 'Fraxinus',\n",
       "       'Acer', 'Rubus', 'Larix', 'Fragaria', 'Syringa', 'Triticum', 'Zea',\n",
       "       'Picea', 'Fagus', 'Solanum', 'Philadelphus', 'Symphoricarpos',\n",
       "       'Pinus', 'Sorbus', 'Robinia', 'Colchicum', 'Quercus', 'Vitis',\n",
       "       'perm_grass', 'Trifolium', 'Sambucus', 'Malus', 'Secale',\n",
       "       'Alopecurus', 'Calluna', 'Pyrus', 'Populus', 'Helianthus',\n",
       "       'Cornus', 'Artemisia', 'Ambrosia'], dtype=object)"
      ]
     },
     "execution_count": 10,
     "metadata": {},
     "output_type": "execute_result"
    }
   ],
   "source": [
    "genus_counts"
   ]
  },
  {
   "cell_type": "code",
   "execution_count": 11,
   "metadata": {},
   "outputs": [
    {
     "data": {
      "text/plain": [
       "'1951-01-02'"
      ]
     },
     "execution_count": 11,
     "metadata": {},
     "output_type": "execute_result"
    }
   ],
   "source": [
    "df['date'].min()"
   ]
  },
  {
   "cell_type": "code",
   "execution_count": 12,
   "metadata": {},
   "outputs": [
    {
     "data": {
      "text/plain": [
       "'2019-12-19'"
      ]
     },
     "execution_count": 12,
     "metadata": {},
     "output_type": "execute_result"
    }
   ],
   "source": [
    "df['date'].max()"
   ]
  },
  {
   "cell_type": "code",
   "execution_count": 13,
   "metadata": {},
   "outputs": [],
   "source": [
    "counts_df = pd.DataFrame(df['year'].value_counts().sort_values(ascending=False))\n",
    "counts_df.to_csv(os.path.join(p_cwd, \"output\",\"printouts\", \"observations_per_year.csv\"))"
   ]
  },
  {
   "cell_type": "code",
   "execution_count": 14,
   "metadata": {},
   "outputs": [
    {
     "data": {
      "text/plain": [
       "s_id                    0\n",
       "provider_id             0\n",
       "lon                     0\n",
       "lat                     0\n",
       "alt                     0\n",
       "alt_dem                 0\n",
       "gss_id                  0\n",
       "genus                   0\n",
       "species            401226\n",
       "subspecies       11177192\n",
       "phase_id                0\n",
       "year                    0\n",
       "day                     0\n",
       "date                    0\n",
       "cult_season             0\n",
       "affected_flag           0\n",
       "qc_flag                 0\n",
       "qc_ori_flag             0\n",
       "dtype: int64"
      ]
     },
     "execution_count": 14,
     "metadata": {},
     "output_type": "execute_result"
    }
   ],
   "source": [
    "df.isna().sum()"
   ]
  },
  {
   "cell_type": "code",
   "execution_count": 15,
   "metadata": {},
   "outputs": [],
   "source": [
    "obs_without_sp = df['species'].isna().sum()"
   ]
  },
  {
   "cell_type": "code",
   "execution_count": 16,
   "metadata": {},
   "outputs": [
    {
     "data": {
      "text/plain": [
       "401226"
      ]
     },
     "execution_count": 16,
     "metadata": {},
     "output_type": "execute_result"
    }
   ],
   "source": [
    "obs_without_sp"
   ]
  },
  {
   "cell_type": "code",
   "execution_count": 17,
   "metadata": {},
   "outputs": [],
   "source": [
    "perc_obs_to_drop = round((obs_without_sp/obs)*100,2)"
   ]
  },
  {
   "cell_type": "code",
   "execution_count": 18,
   "metadata": {},
   "outputs": [
    {
     "data": {
      "text/plain": [
       "3.58"
      ]
     },
     "execution_count": 18,
     "metadata": {},
     "output_type": "execute_result"
    }
   ],
   "source": [
    "perc_obs_to_drop"
   ]
  },
  {
   "cell_type": "code",
   "execution_count": 19,
   "metadata": {},
   "outputs": [],
   "source": [
    "df.drop(['subspecies'], axis=1, inplace=True)"
   ]
  },
  {
   "cell_type": "code",
   "execution_count": 20,
   "metadata": {},
   "outputs": [],
   "source": [
    "df_clean = df[df['species'].notna()]"
   ]
  },
  {
   "cell_type": "code",
   "execution_count": 21,
   "metadata": {},
   "outputs": [
    {
     "data": {
      "text/plain": [
       "s_id             0\n",
       "provider_id      0\n",
       "lon              0\n",
       "lat              0\n",
       "alt              0\n",
       "alt_dem          0\n",
       "gss_id           0\n",
       "genus            0\n",
       "species          0\n",
       "phase_id         0\n",
       "year             0\n",
       "day              0\n",
       "date             0\n",
       "cult_season      0\n",
       "affected_flag    0\n",
       "qc_flag          0\n",
       "qc_ori_flag      0\n",
       "dtype: int64"
      ]
     },
     "execution_count": 21,
     "metadata": {},
     "output_type": "execute_result"
    }
   ],
   "source": [
    "df_clean.isna().sum()"
   ]
  },
  {
   "cell_type": "code",
   "execution_count": 22,
   "metadata": {},
   "outputs": [],
   "source": [
    "df_clean.to_csv(os.path.join(p_cwd, \"data\", \"clean_phen_data.csv\"), index=False)"
   ]
  }
 ],
 "metadata": {
  "kernelspec": {
   "display_name": "Python 3",
   "language": "python",
   "name": "python3"
  },
  "language_info": {
   "codemirror_mode": {
    "name": "ipython",
    "version": 3
   },
   "file_extension": ".py",
   "mimetype": "text/x-python",
   "name": "python",
   "nbconvert_exporter": "python",
   "pygments_lexer": "ipython3",
   "version": "3.7.7"
  }
 },
 "nbformat": 4,
 "nbformat_minor": 4
}
