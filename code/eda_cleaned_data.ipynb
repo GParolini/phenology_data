{
 "cells": [
  {
   "cell_type": "code",
   "execution_count": 33,
   "metadata": {},
   "outputs": [],
   "source": [
    "import pandas as pd\n",
    "import os\n",
    "from pathlib import Path\n",
    "import matplotlib.pyplot as plt"
   ]
  },
  {
   "cell_type": "code",
   "execution_count": 2,
   "metadata": {},
   "outputs": [],
   "source": [
    "cwd =os.getcwd()\n",
    "p_cwd = Path(cwd).parent.absolute()"
   ]
  },
  {
   "cell_type": "code",
   "execution_count": 3,
   "metadata": {},
   "outputs": [],
   "source": [
    "df = pd.read_csv(os.path.join(p_cwd, \"data\",\"clean_phen_data.csv\"))"
   ]
  },
  {
   "cell_type": "code",
   "execution_count": 4,
   "metadata": {},
   "outputs": [
    {
     "data": {
      "text/html": [
       "<div>\n",
       "<style scoped>\n",
       "    .dataframe tbody tr th:only-of-type {\n",
       "        vertical-align: middle;\n",
       "    }\n",
       "\n",
       "    .dataframe tbody tr th {\n",
       "        vertical-align: top;\n",
       "    }\n",
       "\n",
       "    .dataframe thead th {\n",
       "        text-align: right;\n",
       "    }\n",
       "</style>\n",
       "<table border=\"1\" class=\"dataframe\">\n",
       "  <thead>\n",
       "    <tr style=\"text-align: right;\">\n",
       "      <th></th>\n",
       "      <th>s_id</th>\n",
       "      <th>provider_id</th>\n",
       "      <th>lon</th>\n",
       "      <th>lat</th>\n",
       "      <th>alt</th>\n",
       "      <th>alt_dem</th>\n",
       "      <th>gss_id</th>\n",
       "      <th>genus</th>\n",
       "      <th>species</th>\n",
       "      <th>phase_id</th>\n",
       "      <th>year</th>\n",
       "      <th>day</th>\n",
       "      <th>date</th>\n",
       "      <th>cult_season</th>\n",
       "      <th>affected_flag</th>\n",
       "      <th>qc_flag</th>\n",
       "      <th>qc_ori_flag</th>\n",
       "    </tr>\n",
       "  </thead>\n",
       "  <tbody>\n",
       "    <tr>\n",
       "      <th>0</th>\n",
       "      <td>5144</td>\n",
       "      <td>101</td>\n",
       "      <td>11.23330</td>\n",
       "      <td>53.9833</td>\n",
       "      <td>5</td>\n",
       "      <td>0</td>\n",
       "      <td>2390300</td>\n",
       "      <td>Tilia</td>\n",
       "      <td>Tilia platyphyllos</td>\n",
       "      <td>60</td>\n",
       "      <td>1951</td>\n",
       "      <td>2</td>\n",
       "      <td>1951-01-02</td>\n",
       "      <td>0</td>\n",
       "      <td>0</td>\n",
       "      <td>0</td>\n",
       "      <td>0</td>\n",
       "    </tr>\n",
       "    <tr>\n",
       "      <th>1</th>\n",
       "      <td>2255</td>\n",
       "      <td>101</td>\n",
       "      <td>8.96667</td>\n",
       "      <td>51.3333</td>\n",
       "      <td>250</td>\n",
       "      <td>256</td>\n",
       "      <td>1360100</td>\n",
       "      <td>Corylus</td>\n",
       "      <td>Corylus avellana</td>\n",
       "      <td>60</td>\n",
       "      <td>1951</td>\n",
       "      <td>5</td>\n",
       "      <td>1951-01-05</td>\n",
       "      <td>0</td>\n",
       "      <td>0</td>\n",
       "      <td>0</td>\n",
       "      <td>0</td>\n",
       "    </tr>\n",
       "    <tr>\n",
       "      <th>2</th>\n",
       "      <td>1967</td>\n",
       "      <td>101</td>\n",
       "      <td>9.00000</td>\n",
       "      <td>49.6667</td>\n",
       "      <td>220</td>\n",
       "      <td>221</td>\n",
       "      <td>1360100</td>\n",
       "      <td>Corylus</td>\n",
       "      <td>Corylus avellana</td>\n",
       "      <td>60</td>\n",
       "      <td>1951</td>\n",
       "      <td>6</td>\n",
       "      <td>1951-01-06</td>\n",
       "      <td>0</td>\n",
       "      <td>0</td>\n",
       "      <td>0</td>\n",
       "      <td>0</td>\n",
       "    </tr>\n",
       "    <tr>\n",
       "      <th>3</th>\n",
       "      <td>4014</td>\n",
       "      <td>101</td>\n",
       "      <td>10.93330</td>\n",
       "      <td>49.8000</td>\n",
       "      <td>260</td>\n",
       "      <td>242</td>\n",
       "      <td>1360100</td>\n",
       "      <td>Corylus</td>\n",
       "      <td>Corylus avellana</td>\n",
       "      <td>60</td>\n",
       "      <td>1951</td>\n",
       "      <td>7</td>\n",
       "      <td>1951-01-07</td>\n",
       "      <td>0</td>\n",
       "      <td>0</td>\n",
       "      <td>0</td>\n",
       "      <td>0</td>\n",
       "    </tr>\n",
       "    <tr>\n",
       "      <th>4</th>\n",
       "      <td>512</td>\n",
       "      <td>101</td>\n",
       "      <td>10.13330</td>\n",
       "      <td>52.0167</td>\n",
       "      <td>120</td>\n",
       "      <td>122</td>\n",
       "      <td>1600100</td>\n",
       "      <td>Galanthus</td>\n",
       "      <td>Galanthus nivalis</td>\n",
       "      <td>60</td>\n",
       "      <td>1951</td>\n",
       "      <td>10</td>\n",
       "      <td>1951-01-10</td>\n",
       "      <td>0</td>\n",
       "      <td>0</td>\n",
       "      <td>0</td>\n",
       "      <td>0</td>\n",
       "    </tr>\n",
       "  </tbody>\n",
       "</table>\n",
       "</div>"
      ],
      "text/plain": [
       "   s_id  provider_id       lon      lat  alt  alt_dem   gss_id      genus  \\\n",
       "0  5144          101  11.23330  53.9833    5        0  2390300      Tilia   \n",
       "1  2255          101   8.96667  51.3333  250      256  1360100    Corylus   \n",
       "2  1967          101   9.00000  49.6667  220      221  1360100    Corylus   \n",
       "3  4014          101  10.93330  49.8000  260      242  1360100    Corylus   \n",
       "4   512          101  10.13330  52.0167  120      122  1600100  Galanthus   \n",
       "\n",
       "              species  phase_id  year  day        date  cult_season  \\\n",
       "0  Tilia platyphyllos        60  1951    2  1951-01-02            0   \n",
       "1    Corylus avellana        60  1951    5  1951-01-05            0   \n",
       "2    Corylus avellana        60  1951    6  1951-01-06            0   \n",
       "3    Corylus avellana        60  1951    7  1951-01-07            0   \n",
       "4   Galanthus nivalis        60  1951   10  1951-01-10            0   \n",
       "\n",
       "   affected_flag  qc_flag  qc_ori_flag  \n",
       "0              0        0            0  \n",
       "1              0        0            0  \n",
       "2              0        0            0  \n",
       "3              0        0            0  \n",
       "4              0        0            0  "
      ]
     },
     "execution_count": 4,
     "metadata": {},
     "output_type": "execute_result"
    }
   ],
   "source": [
    "df.head()"
   ]
  },
  {
   "cell_type": "code",
   "execution_count": 38,
   "metadata": {},
   "outputs": [
    {
     "data": {
      "image/png": "[encoded data removed]",
      "text/plain": [
       "<Figure size 1440x720 with 1 Axes>"
      ]
     },
     "metadata": {
      "needs_background": "light"
     },
     "output_type": "display_data"
    }
   ],
   "source": [
    "obs_plot = pd.DataFrame(df.groupby(by='year').size()).plot.bar(figsize=(20,10), color='limegreen', rot=60)\n",
    "plt.savefig(os.path.join(p_cwd, \"output\",\"images\",\"observations_plot.jpg\"), dpi=300,\n",
    "        orientation='portrait')"
   ]
  },
  {
   "cell_type": "code",
   "execution_count": 5,
   "metadata": {},
   "outputs": [
    {
     "name": "stdout",
     "output_type": "stream",
     "text": [
      "6773\n"
     ]
    }
   ],
   "source": [
    "lst_stations = sorted(set(df['s_id'].to_list()))\n",
    "print(len(lst_stations))"
   ]
  },
  {
   "cell_type": "code",
   "execution_count": 6,
   "metadata": {},
   "outputs": [],
   "source": [
    "file_path = os.path.join(p_cwd, \"data\",\"other_data\",\"pep725_stations.csv\")"
   ]
  },
  {
   "cell_type": "code",
   "execution_count": 7,
   "metadata": {},
   "outputs": [],
   "source": [
    "df_stations = pd.read_csv(file_path, sep=';', encoding='utf-8-sig')"
   ]
  },
  {
   "cell_type": "code",
   "execution_count": 8,
   "metadata": {},
   "outputs": [
    {
     "data": {
      "text/plain": [
       "26597"
      ]
     },
     "execution_count": 8,
     "metadata": {},
     "output_type": "execute_result"
    }
   ],
   "source": [
    "len(df_stations)"
   ]
  },
  {
   "cell_type": "code",
   "execution_count": 9,
   "metadata": {},
   "outputs": [],
   "source": [
    "df_stations_de = df_stations.loc[df_stations['s_id'].isin(lst_stations)]"
   ]
  },
  {
   "cell_type": "code",
   "execution_count": 10,
   "metadata": {},
   "outputs": [
    {
     "data": {
      "text/plain": [
       "6773"
      ]
     },
     "execution_count": 10,
     "metadata": {},
     "output_type": "execute_result"
    }
   ],
   "source": [
    "len(df_stations_de)"
   ]
  },
  {
   "cell_type": "code",
   "execution_count": 11,
   "metadata": {},
   "outputs": [
    {
     "data": {
      "text/html": [
       "<div>\n",
       "<style scoped>\n",
       "    .dataframe tbody tr th:only-of-type {\n",
       "        vertical-align: middle;\n",
       "    }\n",
       "\n",
       "    .dataframe tbody tr th {\n",
       "        vertical-align: top;\n",
       "    }\n",
       "\n",
       "    .dataframe thead th {\n",
       "        text-align: right;\n",
       "    }\n",
       "</style>\n",
       "<table border=\"1\" class=\"dataframe\">\n",
       "  <thead>\n",
       "    <tr style=\"text-align: right;\">\n",
       "      <th></th>\n",
       "      <th>s_id</th>\n",
       "      <th>provider_id</th>\n",
       "      <th>country_id</th>\n",
       "      <th>nat_id</th>\n",
       "      <th>lon</th>\n",
       "      <th>lat</th>\n",
       "      <th>alt</th>\n",
       "      <th>alt_dem</th>\n",
       "      <th>qc_flag</th>\n",
       "      <th>name</th>\n",
       "      <th>lastmod</th>\n",
       "    </tr>\n",
       "  </thead>\n",
       "  <tbody>\n",
       "    <tr>\n",
       "      <th>0</th>\n",
       "      <td>1</td>\n",
       "      <td>101</td>\n",
       "      <td>1</td>\n",
       "      <td>11110000</td>\n",
       "      <td>9.43333</td>\n",
       "      <td>54.7667</td>\n",
       "      <td>25</td>\n",
       "      <td>34</td>\n",
       "      <td>1</td>\n",
       "      <td>Flensburg, kreisfreie Stadt Flensburg</td>\n",
       "      <td>2017-03-14 12:42:00</td>\n",
       "    </tr>\n",
       "    <tr>\n",
       "      <th>1</th>\n",
       "      <td>2</td>\n",
       "      <td>101</td>\n",
       "      <td>1</td>\n",
       "      <td>11120000</td>\n",
       "      <td>10.15000</td>\n",
       "      <td>54.4000</td>\n",
       "      <td>25</td>\n",
       "      <td>31</td>\n",
       "      <td>1</td>\n",
       "      <td>Kiel-Pries</td>\n",
       "      <td>2017-03-14 12:44:00</td>\n",
       "    </tr>\n",
       "    <tr>\n",
       "      <th>2</th>\n",
       "      <td>3</td>\n",
       "      <td>101</td>\n",
       "      <td>1</td>\n",
       "      <td>11120001</td>\n",
       "      <td>10.15000</td>\n",
       "      <td>54.3333</td>\n",
       "      <td>29</td>\n",
       "      <td>29</td>\n",
       "      <td>1</td>\n",
       "      <td>Kiel-Düsternbrook</td>\n",
       "      <td>2017-03-14 12:44:00</td>\n",
       "    </tr>\n",
       "    <tr>\n",
       "      <th>3</th>\n",
       "      <td>4</td>\n",
       "      <td>101</td>\n",
       "      <td>1</td>\n",
       "      <td>11120002</td>\n",
       "      <td>10.05000</td>\n",
       "      <td>54.3167</td>\n",
       "      <td>30</td>\n",
       "      <td>32</td>\n",
       "      <td>1</td>\n",
       "      <td>Kiel-Mettenhof</td>\n",
       "      <td>2017-03-14 12:44:00</td>\n",
       "    </tr>\n",
       "    <tr>\n",
       "      <th>4</th>\n",
       "      <td>5</td>\n",
       "      <td>101</td>\n",
       "      <td>1</td>\n",
       "      <td>11130000</td>\n",
       "      <td>10.68330</td>\n",
       "      <td>53.8833</td>\n",
       "      <td>10</td>\n",
       "      <td>29</td>\n",
       "      <td>1</td>\n",
       "      <td>Lübeck-Schlutup</td>\n",
       "      <td>2017-03-14 12:45:00</td>\n",
       "    </tr>\n",
       "    <tr>\n",
       "      <th>5</th>\n",
       "      <td>6</td>\n",
       "      <td>101</td>\n",
       "      <td>1</td>\n",
       "      <td>11130001</td>\n",
       "      <td>10.71670</td>\n",
       "      <td>53.8333</td>\n",
       "      <td>13</td>\n",
       "      <td>11</td>\n",
       "      <td>1</td>\n",
       "      <td>Lübeck-Sankt Lorenz (Nord)</td>\n",
       "      <td>2017-03-14 12:45:00</td>\n",
       "    </tr>\n",
       "    <tr>\n",
       "      <th>6</th>\n",
       "      <td>7</td>\n",
       "      <td>101</td>\n",
       "      <td>1</td>\n",
       "      <td>11130002</td>\n",
       "      <td>10.63330</td>\n",
       "      <td>53.8333</td>\n",
       "      <td>10</td>\n",
       "      <td>16</td>\n",
       "      <td>1</td>\n",
       "      <td>Lübeck-Sankt Jürgen</td>\n",
       "      <td>2017-03-14 12:45:00</td>\n",
       "    </tr>\n",
       "    <tr>\n",
       "      <th>7</th>\n",
       "      <td>8</td>\n",
       "      <td>101</td>\n",
       "      <td>1</td>\n",
       "      <td>11140000</td>\n",
       "      <td>9.98333</td>\n",
       "      <td>54.0833</td>\n",
       "      <td>25</td>\n",
       "      <td>19</td>\n",
       "      <td>1</td>\n",
       "      <td>Neumünster, kreisfreie Stadt Neumünster</td>\n",
       "      <td>2017-03-14 12:45:00</td>\n",
       "    </tr>\n",
       "    <tr>\n",
       "      <th>8</th>\n",
       "      <td>9</td>\n",
       "      <td>101</td>\n",
       "      <td>1</td>\n",
       "      <td>11311140</td>\n",
       "      <td>9.70000</td>\n",
       "      <td>54.4333</td>\n",
       "      <td>25</td>\n",
       "      <td>32</td>\n",
       "      <td>1</td>\n",
       "      <td>Ascheffel</td>\n",
       "      <td>2017-03-14 12:45:00</td>\n",
       "    </tr>\n",
       "    <tr>\n",
       "      <th>9</th>\n",
       "      <td>10</td>\n",
       "      <td>101</td>\n",
       "      <td>1</td>\n",
       "      <td>11311180</td>\n",
       "      <td>9.70000</td>\n",
       "      <td>54.3333</td>\n",
       "      <td>15</td>\n",
       "      <td>15</td>\n",
       "      <td>1</td>\n",
       "      <td>Borgstedt b. Rendsburg</td>\n",
       "      <td>2017-03-14 12:45:00</td>\n",
       "    </tr>\n",
       "  </tbody>\n",
       "</table>\n",
       "</div>"
      ],
      "text/plain": [
       "   s_id  provider_id  country_id    nat_id       lon      lat  alt  alt_dem  \\\n",
       "0     1          101           1  11110000   9.43333  54.7667   25       34   \n",
       "1     2          101           1  11120000  10.15000  54.4000   25       31   \n",
       "2     3          101           1  11120001  10.15000  54.3333   29       29   \n",
       "3     4          101           1  11120002  10.05000  54.3167   30       32   \n",
       "4     5          101           1  11130000  10.68330  53.8833   10       29   \n",
       "5     6          101           1  11130001  10.71670  53.8333   13       11   \n",
       "6     7          101           1  11130002  10.63330  53.8333   10       16   \n",
       "7     8          101           1  11140000   9.98333  54.0833   25       19   \n",
       "8     9          101           1  11311140   9.70000  54.4333   25       32   \n",
       "9    10          101           1  11311180   9.70000  54.3333   15       15   \n",
       "\n",
       "   qc_flag                                     name              lastmod  \n",
       "0        1    Flensburg, kreisfreie Stadt Flensburg  2017-03-14 12:42:00  \n",
       "1        1                               Kiel-Pries  2017-03-14 12:44:00  \n",
       "2        1                        Kiel-Düsternbrook  2017-03-14 12:44:00  \n",
       "3        1                           Kiel-Mettenhof  2017-03-14 12:44:00  \n",
       "4        1                          Lübeck-Schlutup  2017-03-14 12:45:00  \n",
       "5        1               Lübeck-Sankt Lorenz (Nord)  2017-03-14 12:45:00  \n",
       "6        1                      Lübeck-Sankt Jürgen  2017-03-14 12:45:00  \n",
       "7        1  Neumünster, kreisfreie Stadt Neumünster  2017-03-14 12:45:00  \n",
       "8        1                                Ascheffel  2017-03-14 12:45:00  \n",
       "9        1                   Borgstedt b. Rendsburg  2017-03-14 12:45:00  "
      ]
     },
     "execution_count": 11,
     "metadata": {},
     "output_type": "execute_result"
    }
   ],
   "source": [
    "df_stations_de.head(10)"
   ]
  },
  {
   "cell_type": "code",
   "execution_count": 12,
   "metadata": {},
   "outputs": [
    {
     "data": {
      "text/plain": [
       "array(['11110000', '11120000', '11120001', ..., '19031', '19101', '15993'],\n",
       "      dtype=object)"
      ]
     },
     "execution_count": 12,
     "metadata": {},
     "output_type": "execute_result"
    }
   ],
   "source": [
    "df_stations_de['nat_id'].unique()"
   ]
  },
  {
   "cell_type": "code",
   "execution_count": 13,
   "metadata": {},
   "outputs": [
    {
     "name": "stderr",
     "output_type": "stream",
     "text": [
      "/Users/giudittaparolini/anaconda3/envs/testenv/lib/python3.7/site-packages/pandas/core/frame.py:4315: SettingWithCopyWarning: \n",
      "A value is trying to be set on a copy of a slice from a DataFrame\n",
      "\n",
      "See the caveats in the documentation: https://pandas.pydata.org/pandas-docs/stable/user_guide/indexing.html#returning-a-view-versus-a-copy\n",
      "  errors=errors,\n"
     ]
    }
   ],
   "source": [
    "df_stations_de.drop(['provider_id', 'country_id', 'nat_id', 'alt', 'alt_dem',\n",
    "                  'qc_flag', 'lastmod'], axis=1, inplace=True)"
   ]
  },
  {
   "cell_type": "code",
   "execution_count": 14,
   "metadata": {},
   "outputs": [
    {
     "data": {
      "text/html": [
       "<div>\n",
       "<style scoped>\n",
       "    .dataframe tbody tr th:only-of-type {\n",
       "        vertical-align: middle;\n",
       "    }\n",
       "\n",
       "    .dataframe tbody tr th {\n",
       "        vertical-align: top;\n",
       "    }\n",
       "\n",
       "    .dataframe thead th {\n",
       "        text-align: right;\n",
       "    }\n",
       "</style>\n",
       "<table border=\"1\" class=\"dataframe\">\n",
       "  <thead>\n",
       "    <tr style=\"text-align: right;\">\n",
       "      <th></th>\n",
       "      <th>s_id</th>\n",
       "      <th>lon</th>\n",
       "      <th>lat</th>\n",
       "      <th>name</th>\n",
       "    </tr>\n",
       "  </thead>\n",
       "  <tbody>\n",
       "    <tr>\n",
       "      <th>0</th>\n",
       "      <td>1</td>\n",
       "      <td>9.43333</td>\n",
       "      <td>54.7667</td>\n",
       "      <td>Flensburg, kreisfreie Stadt Flensburg</td>\n",
       "    </tr>\n",
       "    <tr>\n",
       "      <th>1</th>\n",
       "      <td>2</td>\n",
       "      <td>10.15000</td>\n",
       "      <td>54.4000</td>\n",
       "      <td>Kiel-Pries</td>\n",
       "    </tr>\n",
       "    <tr>\n",
       "      <th>2</th>\n",
       "      <td>3</td>\n",
       "      <td>10.15000</td>\n",
       "      <td>54.3333</td>\n",
       "      <td>Kiel-Düsternbrook</td>\n",
       "    </tr>\n",
       "    <tr>\n",
       "      <th>3</th>\n",
       "      <td>4</td>\n",
       "      <td>10.05000</td>\n",
       "      <td>54.3167</td>\n",
       "      <td>Kiel-Mettenhof</td>\n",
       "    </tr>\n",
       "    <tr>\n",
       "      <th>4</th>\n",
       "      <td>5</td>\n",
       "      <td>10.68330</td>\n",
       "      <td>53.8833</td>\n",
       "      <td>Lübeck-Schlutup</td>\n",
       "    </tr>\n",
       "    <tr>\n",
       "      <th>...</th>\n",
       "      <td>...</td>\n",
       "      <td>...</td>\n",
       "      <td>...</td>\n",
       "      <td>...</td>\n",
       "    </tr>\n",
       "    <tr>\n",
       "      <th>21511</th>\n",
       "      <td>21528</td>\n",
       "      <td>14.06670</td>\n",
       "      <td>52.5500</td>\n",
       "      <td>Buckow/M?rkische Schweiz</td>\n",
       "    </tr>\n",
       "    <tr>\n",
       "      <th>21512</th>\n",
       "      <td>21529</td>\n",
       "      <td>12.10000</td>\n",
       "      <td>54.1000</td>\n",
       "      <td>Rostock-Gehlsdorf</td>\n",
       "    </tr>\n",
       "    <tr>\n",
       "      <th>21513</th>\n",
       "      <td>21530</td>\n",
       "      <td>12.23330</td>\n",
       "      <td>51.8000</td>\n",
       "      <td>Dessau-S?d</td>\n",
       "    </tr>\n",
       "    <tr>\n",
       "      <th>21514</th>\n",
       "      <td>21531</td>\n",
       "      <td>10.40000</td>\n",
       "      <td>50.7500</td>\n",
       "      <td>He?les</td>\n",
       "    </tr>\n",
       "    <tr>\n",
       "      <th>21515</th>\n",
       "      <td>21532</td>\n",
       "      <td>10.01670</td>\n",
       "      <td>48.8000</td>\n",
       "      <td>Essingen</td>\n",
       "    </tr>\n",
       "  </tbody>\n",
       "</table>\n",
       "<p>6773 rows × 4 columns</p>\n",
       "</div>"
      ],
      "text/plain": [
       "        s_id       lon      lat                                   name\n",
       "0          1   9.43333  54.7667  Flensburg, kreisfreie Stadt Flensburg\n",
       "1          2  10.15000  54.4000                             Kiel-Pries\n",
       "2          3  10.15000  54.3333                      Kiel-Düsternbrook\n",
       "3          4  10.05000  54.3167                         Kiel-Mettenhof\n",
       "4          5  10.68330  53.8833                        Lübeck-Schlutup\n",
       "...      ...       ...      ...                                    ...\n",
       "21511  21528  14.06670  52.5500               Buckow/M?rkische Schweiz\n",
       "21512  21529  12.10000  54.1000                      Rostock-Gehlsdorf\n",
       "21513  21530  12.23330  51.8000                             Dessau-S?d\n",
       "21514  21531  10.40000  50.7500                                 He?les\n",
       "21515  21532  10.01670  48.8000                               Essingen\n",
       "\n",
       "[6773 rows x 4 columns]"
      ]
     },
     "execution_count": 14,
     "metadata": {},
     "output_type": "execute_result"
    }
   ],
   "source": [
    "df_stations_de"
   ]
  },
  {
   "cell_type": "code",
   "execution_count": 17,
   "metadata": {},
   "outputs": [],
   "source": [
    "df_stations_de.to_csv(os.path.join(p_cwd, \"data\", \"de_phen_stations.csv\"), index=False)"
   ]
  }
 ],
 "metadata": {
  "kernelspec": {
   "display_name": "Python 3",
   "language": "python",
   "name": "python3"
  },
  "language_info": {
   "codemirror_mode": {
    "name": "ipython",
    "version": 3
   },
   "file_extension": ".py",
   "mimetype": "text/x-python",
   "name": "python",
   "nbconvert_exporter": "python",
   "pygments_lexer": "ipython3",
   "version": "3.7.7"
  }
 },
 "nbformat": 4,
 "nbformat_minor": 5
}
