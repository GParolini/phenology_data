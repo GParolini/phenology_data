{
 "cells": [
  {
   "cell_type": "markdown",
   "metadata": {},
   "source": [
    "# Joining Temperature Data"
   ]
  },
  {
   "cell_type": "code",
   "execution_count": 50,
   "metadata": {},
   "outputs": [],
   "source": [
    "import os\n",
    "from pathlib import Path\n",
    "import pandas as pd\n",
    "import numpy as np\n",
    "import matplotlib.pyplot as plt\n",
    "from mpl_toolkits.mplot3d import Axes3D\n",
    "import seaborn as sns\n",
    "\n",
    "from sklearn.linear_model import LinearRegression\n",
    "from sklearn.metrics import mean_squared_error, r2_score"
   ]
  },
  {
   "cell_type": "code",
   "execution_count": 51,
   "metadata": {},
   "outputs": [],
   "source": [
    "#Reading mean temperature data dowloaded from ECAD\n",
    "cwd =os.getcwd()\n",
    "p_cwd = Path(cwd).parent.absolute()\n",
    "df_temp = pd.read_csv(os.path.join(p_cwd,\"data\",\"temperature_data\",\"TG_STAID004089.txt\"), names = ['souid', 'date', 'tg', 'q_tg'], \n",
    "                 header=0, parse_dates=['date'] )"
   ]
  },
  {
   "cell_type": "code",
   "execution_count": 52,
   "metadata": {},
   "outputs": [],
   "source": [
    "df_temp.drop(['souid', 'q_tg'], axis=1, inplace=True)"
   ]
  },
  {
   "cell_type": "code",
   "execution_count": 53,
   "metadata": {},
   "outputs": [],
   "source": [
    "df_temp['tg']=df_temp['tg']/10"
   ]
  },
  {
   "cell_type": "code",
   "execution_count": 54,
   "metadata": {},
   "outputs": [],
   "source": [
    "df_temp=df_temp.set_index('date')"
   ]
  },
  {
   "cell_type": "code",
   "execution_count": 55,
   "metadata": {},
   "outputs": [
    {
     "data": {
      "text/html": [
       "<div>\n",
       "<style scoped>\n",
       "    .dataframe tbody tr th:only-of-type {\n",
       "        vertical-align: middle;\n",
       "    }\n",
       "\n",
       "    .dataframe tbody tr th {\n",
       "        vertical-align: top;\n",
       "    }\n",
       "\n",
       "    .dataframe thead th {\n",
       "        text-align: right;\n",
       "    }\n",
       "</style>\n",
       "<table border=\"1\" class=\"dataframe\">\n",
       "  <thead>\n",
       "    <tr style=\"text-align: right;\">\n",
       "      <th></th>\n",
       "      <th>tg</th>\n",
       "    </tr>\n",
       "    <tr>\n",
       "      <th>date</th>\n",
       "      <th></th>\n",
       "    </tr>\n",
       "  </thead>\n",
       "  <tbody>\n",
       "    <tr>\n",
       "      <th>2008-04-01</th>\n",
       "      <td>9.3</td>\n",
       "    </tr>\n",
       "    <tr>\n",
       "      <th>2008-04-02</th>\n",
       "      <td>6.6</td>\n",
       "    </tr>\n",
       "    <tr>\n",
       "      <th>2008-04-03</th>\n",
       "      <td>4.3</td>\n",
       "    </tr>\n",
       "    <tr>\n",
       "      <th>2008-04-04</th>\n",
       "      <td>4.4</td>\n",
       "    </tr>\n",
       "    <tr>\n",
       "      <th>2008-04-05</th>\n",
       "      <td>5.9</td>\n",
       "    </tr>\n",
       "    <tr>\n",
       "      <th>...</th>\n",
       "      <td>...</td>\n",
       "    </tr>\n",
       "    <tr>\n",
       "      <th>2021-04-26</th>\n",
       "      <td>7.7</td>\n",
       "    </tr>\n",
       "    <tr>\n",
       "      <th>2021-04-27</th>\n",
       "      <td>9.3</td>\n",
       "    </tr>\n",
       "    <tr>\n",
       "      <th>2021-04-28</th>\n",
       "      <td>12.1</td>\n",
       "    </tr>\n",
       "    <tr>\n",
       "      <th>2021-04-29</th>\n",
       "      <td>12.2</td>\n",
       "    </tr>\n",
       "    <tr>\n",
       "      <th>2021-04-30</th>\n",
       "      <td>11.1</td>\n",
       "    </tr>\n",
       "  </tbody>\n",
       "</table>\n",
       "<p>4778 rows × 1 columns</p>\n",
       "</div>"
      ],
      "text/plain": [
       "              tg\n",
       "date            \n",
       "2008-04-01   9.3\n",
       "2008-04-02   6.6\n",
       "2008-04-03   4.3\n",
       "2008-04-04   4.4\n",
       "2008-04-05   5.9\n",
       "...          ...\n",
       "2021-04-26   7.7\n",
       "2021-04-27   9.3\n",
       "2021-04-28  12.1\n",
       "2021-04-29  12.2\n",
       "2021-04-30  11.1\n",
       "\n",
       "[4778 rows x 1 columns]"
      ]
     },
     "execution_count": 55,
     "metadata": {},
     "output_type": "execute_result"
    }
   ],
   "source": [
    "df_temp"
   ]
  },
  {
   "cell_type": "code",
   "execution_count": 56,
   "metadata": {},
   "outputs": [],
   "source": [
    "df_monthly_mean = df_temp.groupby(pd.Grouper(freq='M')).mean()"
   ]
  },
  {
   "cell_type": "code",
   "execution_count": 57,
   "metadata": {},
   "outputs": [],
   "source": [
    "df_monthly_mean['monthly_mean']=df_monthly_mean['tg']"
   ]
  },
  {
   "cell_type": "code",
   "execution_count": 58,
   "metadata": {},
   "outputs": [],
   "source": [
    "df_monthly_mean.drop(['tg'], axis=1, inplace=True)"
   ]
  },
  {
   "cell_type": "code",
   "execution_count": 59,
   "metadata": {},
   "outputs": [
    {
     "data": {
      "text/html": [
       "<div>\n",
       "<style scoped>\n",
       "    .dataframe tbody tr th:only-of-type {\n",
       "        vertical-align: middle;\n",
       "    }\n",
       "\n",
       "    .dataframe tbody tr th {\n",
       "        vertical-align: top;\n",
       "    }\n",
       "\n",
       "    .dataframe thead th {\n",
       "        text-align: right;\n",
       "    }\n",
       "</style>\n",
       "<table border=\"1\" class=\"dataframe\">\n",
       "  <thead>\n",
       "    <tr style=\"text-align: right;\">\n",
       "      <th></th>\n",
       "      <th>monthly_mean</th>\n",
       "    </tr>\n",
       "    <tr>\n",
       "      <th>date</th>\n",
       "      <th></th>\n",
       "    </tr>\n",
       "  </thead>\n",
       "  <tbody>\n",
       "    <tr>\n",
       "      <th>2008-04-30</th>\n",
       "      <td>8.173333</td>\n",
       "    </tr>\n",
       "    <tr>\n",
       "      <th>2008-05-31</th>\n",
       "      <td>14.887097</td>\n",
       "    </tr>\n",
       "    <tr>\n",
       "      <th>2008-06-30</th>\n",
       "      <td>17.760000</td>\n",
       "    </tr>\n",
       "    <tr>\n",
       "      <th>2008-07-31</th>\n",
       "      <td>17.970968</td>\n",
       "    </tr>\n",
       "    <tr>\n",
       "      <th>2008-08-31</th>\n",
       "      <td>17.819355</td>\n",
       "    </tr>\n",
       "    <tr>\n",
       "      <th>...</th>\n",
       "      <td>...</td>\n",
       "    </tr>\n",
       "    <tr>\n",
       "      <th>2020-12-31</th>\n",
       "      <td>1.193548</td>\n",
       "    </tr>\n",
       "    <tr>\n",
       "      <th>2021-01-31</th>\n",
       "      <td>-0.700000</td>\n",
       "    </tr>\n",
       "    <tr>\n",
       "      <th>2021-02-28</th>\n",
       "      <td>2.628571</td>\n",
       "    </tr>\n",
       "    <tr>\n",
       "      <th>2021-03-31</th>\n",
       "      <td>4.845161</td>\n",
       "    </tr>\n",
       "    <tr>\n",
       "      <th>2021-04-30</th>\n",
       "      <td>6.870000</td>\n",
       "    </tr>\n",
       "  </tbody>\n",
       "</table>\n",
       "<p>157 rows × 1 columns</p>\n",
       "</div>"
      ],
      "text/plain": [
       "            monthly_mean\n",
       "date                    \n",
       "2008-04-30      8.173333\n",
       "2008-05-31     14.887097\n",
       "2008-06-30     17.760000\n",
       "2008-07-31     17.970968\n",
       "2008-08-31     17.819355\n",
       "...                  ...\n",
       "2020-12-31      1.193548\n",
       "2021-01-31     -0.700000\n",
       "2021-02-28      2.628571\n",
       "2021-03-31      4.845161\n",
       "2021-04-30      6.870000\n",
       "\n",
       "[157 rows x 1 columns]"
      ]
     },
     "execution_count": 59,
     "metadata": {},
     "output_type": "execute_result"
    }
   ],
   "source": [
    "df_monthly_mean"
   ]
  },
  {
   "cell_type": "code",
   "execution_count": 60,
   "metadata": {},
   "outputs": [],
   "source": [
    "df_monthly_mean=df_monthly_mean.resample('D').bfill()"
   ]
  },
  {
   "cell_type": "code",
   "execution_count": 61,
   "metadata": {},
   "outputs": [
    {
     "data": {
      "text/html": [
       "<div>\n",
       "<style scoped>\n",
       "    .dataframe tbody tr th:only-of-type {\n",
       "        vertical-align: middle;\n",
       "    }\n",
       "\n",
       "    .dataframe tbody tr th {\n",
       "        vertical-align: top;\n",
       "    }\n",
       "\n",
       "    .dataframe thead th {\n",
       "        text-align: right;\n",
       "    }\n",
       "</style>\n",
       "<table border=\"1\" class=\"dataframe\">\n",
       "  <thead>\n",
       "    <tr style=\"text-align: right;\">\n",
       "      <th></th>\n",
       "      <th>monthly_mean</th>\n",
       "    </tr>\n",
       "    <tr>\n",
       "      <th>date</th>\n",
       "      <th></th>\n",
       "    </tr>\n",
       "  </thead>\n",
       "  <tbody>\n",
       "    <tr>\n",
       "      <th>2008-04-30</th>\n",
       "      <td>8.173333</td>\n",
       "    </tr>\n",
       "    <tr>\n",
       "      <th>2008-05-01</th>\n",
       "      <td>14.887097</td>\n",
       "    </tr>\n",
       "    <tr>\n",
       "      <th>2008-05-02</th>\n",
       "      <td>14.887097</td>\n",
       "    </tr>\n",
       "    <tr>\n",
       "      <th>2008-05-03</th>\n",
       "      <td>14.887097</td>\n",
       "    </tr>\n",
       "    <tr>\n",
       "      <th>2008-05-04</th>\n",
       "      <td>14.887097</td>\n",
       "    </tr>\n",
       "    <tr>\n",
       "      <th>...</th>\n",
       "      <td>...</td>\n",
       "    </tr>\n",
       "    <tr>\n",
       "      <th>2021-04-26</th>\n",
       "      <td>6.870000</td>\n",
       "    </tr>\n",
       "    <tr>\n",
       "      <th>2021-04-27</th>\n",
       "      <td>6.870000</td>\n",
       "    </tr>\n",
       "    <tr>\n",
       "      <th>2021-04-28</th>\n",
       "      <td>6.870000</td>\n",
       "    </tr>\n",
       "    <tr>\n",
       "      <th>2021-04-29</th>\n",
       "      <td>6.870000</td>\n",
       "    </tr>\n",
       "    <tr>\n",
       "      <th>2021-04-30</th>\n",
       "      <td>6.870000</td>\n",
       "    </tr>\n",
       "  </tbody>\n",
       "</table>\n",
       "<p>4749 rows × 1 columns</p>\n",
       "</div>"
      ],
      "text/plain": [
       "            monthly_mean\n",
       "date                    \n",
       "2008-04-30      8.173333\n",
       "2008-05-01     14.887097\n",
       "2008-05-02     14.887097\n",
       "2008-05-03     14.887097\n",
       "2008-05-04     14.887097\n",
       "...                  ...\n",
       "2021-04-26      6.870000\n",
       "2021-04-27      6.870000\n",
       "2021-04-28      6.870000\n",
       "2021-04-29      6.870000\n",
       "2021-04-30      6.870000\n",
       "\n",
       "[4749 rows x 1 columns]"
      ]
     },
     "execution_count": 61,
     "metadata": {},
     "output_type": "execute_result"
    }
   ],
   "source": [
    "df_monthly_mean"
   ]
  },
  {
   "cell_type": "code",
   "execution_count": 62,
   "metadata": {},
   "outputs": [],
   "source": [
    "df_weather = df_temp.join(df_monthly_mean)"
   ]
  },
  {
   "cell_type": "code",
   "execution_count": 63,
   "metadata": {},
   "outputs": [
    {
     "data": {
      "text/html": [
       "<div>\n",
       "<style scoped>\n",
       "    .dataframe tbody tr th:only-of-type {\n",
       "        vertical-align: middle;\n",
       "    }\n",
       "\n",
       "    .dataframe tbody tr th {\n",
       "        vertical-align: top;\n",
       "    }\n",
       "\n",
       "    .dataframe thead th {\n",
       "        text-align: right;\n",
       "    }\n",
       "</style>\n",
       "<table border=\"1\" class=\"dataframe\">\n",
       "  <thead>\n",
       "    <tr style=\"text-align: right;\">\n",
       "      <th></th>\n",
       "      <th>tg</th>\n",
       "      <th>monthly_mean</th>\n",
       "    </tr>\n",
       "    <tr>\n",
       "      <th>date</th>\n",
       "      <th></th>\n",
       "      <th></th>\n",
       "    </tr>\n",
       "  </thead>\n",
       "  <tbody>\n",
       "    <tr>\n",
       "      <th>2008-04-01</th>\n",
       "      <td>9.3</td>\n",
       "      <td>NaN</td>\n",
       "    </tr>\n",
       "    <tr>\n",
       "      <th>2008-04-02</th>\n",
       "      <td>6.6</td>\n",
       "      <td>NaN</td>\n",
       "    </tr>\n",
       "    <tr>\n",
       "      <th>2008-04-03</th>\n",
       "      <td>4.3</td>\n",
       "      <td>NaN</td>\n",
       "    </tr>\n",
       "    <tr>\n",
       "      <th>2008-04-04</th>\n",
       "      <td>4.4</td>\n",
       "      <td>NaN</td>\n",
       "    </tr>\n",
       "    <tr>\n",
       "      <th>2008-04-05</th>\n",
       "      <td>5.9</td>\n",
       "      <td>NaN</td>\n",
       "    </tr>\n",
       "    <tr>\n",
       "      <th>...</th>\n",
       "      <td>...</td>\n",
       "      <td>...</td>\n",
       "    </tr>\n",
       "    <tr>\n",
       "      <th>2021-04-26</th>\n",
       "      <td>7.7</td>\n",
       "      <td>6.87</td>\n",
       "    </tr>\n",
       "    <tr>\n",
       "      <th>2021-04-27</th>\n",
       "      <td>9.3</td>\n",
       "      <td>6.87</td>\n",
       "    </tr>\n",
       "    <tr>\n",
       "      <th>2021-04-28</th>\n",
       "      <td>12.1</td>\n",
       "      <td>6.87</td>\n",
       "    </tr>\n",
       "    <tr>\n",
       "      <th>2021-04-29</th>\n",
       "      <td>12.2</td>\n",
       "      <td>6.87</td>\n",
       "    </tr>\n",
       "    <tr>\n",
       "      <th>2021-04-30</th>\n",
       "      <td>11.1</td>\n",
       "      <td>6.87</td>\n",
       "    </tr>\n",
       "  </tbody>\n",
       "</table>\n",
       "<p>4778 rows × 2 columns</p>\n",
       "</div>"
      ],
      "text/plain": [
       "              tg  monthly_mean\n",
       "date                          \n",
       "2008-04-01   9.3           NaN\n",
       "2008-04-02   6.6           NaN\n",
       "2008-04-03   4.3           NaN\n",
       "2008-04-04   4.4           NaN\n",
       "2008-04-05   5.9           NaN\n",
       "...          ...           ...\n",
       "2021-04-26   7.7          6.87\n",
       "2021-04-27   9.3          6.87\n",
       "2021-04-28  12.1          6.87\n",
       "2021-04-29  12.2          6.87\n",
       "2021-04-30  11.1          6.87\n",
       "\n",
       "[4778 rows x 2 columns]"
      ]
     },
     "execution_count": 63,
     "metadata": {},
     "output_type": "execute_result"
    }
   ],
   "source": [
    "df_weather"
   ]
  },
  {
   "cell_type": "code",
   "execution_count": 64,
   "metadata": {},
   "outputs": [
    {
     "data": {
      "text/plain": [
       "DatetimeIndex(['2008-04-01', '2008-04-02', '2008-04-03', '2008-04-04',\n",
       "               '2008-04-05', '2008-04-06', '2008-04-07', '2008-04-08',\n",
       "               '2008-04-09', '2008-04-10',\n",
       "               ...\n",
       "               '2021-04-21', '2021-04-22', '2021-04-23', '2021-04-24',\n",
       "               '2021-04-25', '2021-04-26', '2021-04-27', '2021-04-28',\n",
       "               '2021-04-29', '2021-04-30'],\n",
       "              dtype='datetime64[ns]', name='date', length=4778, freq=None)"
      ]
     },
     "execution_count": 64,
     "metadata": {},
     "output_type": "execute_result"
    }
   ],
   "source": [
    "df_weather.index"
   ]
  },
  {
   "cell_type": "code",
   "execution_count": 65,
   "metadata": {},
   "outputs": [
    {
     "data": {
      "text/html": [
       "<div>\n",
       "<style scoped>\n",
       "    .dataframe tbody tr th:only-of-type {\n",
       "        vertical-align: middle;\n",
       "    }\n",
       "\n",
       "    .dataframe tbody tr th {\n",
       "        vertical-align: top;\n",
       "    }\n",
       "\n",
       "    .dataframe thead th {\n",
       "        text-align: right;\n",
       "    }\n",
       "</style>\n",
       "<table border=\"1\" class=\"dataframe\">\n",
       "  <thead>\n",
       "    <tr style=\"text-align: right;\">\n",
       "      <th></th>\n",
       "      <th>tg</th>\n",
       "      <th>monthly_mean</th>\n",
       "    </tr>\n",
       "    <tr>\n",
       "      <th>date</th>\n",
       "      <th></th>\n",
       "      <th></th>\n",
       "    </tr>\n",
       "  </thead>\n",
       "  <tbody>\n",
       "    <tr>\n",
       "      <th>2008-04-01</th>\n",
       "      <td>9.3</td>\n",
       "      <td>6.87</td>\n",
       "    </tr>\n",
       "    <tr>\n",
       "      <th>2008-04-02</th>\n",
       "      <td>6.6</td>\n",
       "      <td>6.87</td>\n",
       "    </tr>\n",
       "    <tr>\n",
       "      <th>2008-04-03</th>\n",
       "      <td>4.3</td>\n",
       "      <td>6.87</td>\n",
       "    </tr>\n",
       "    <tr>\n",
       "      <th>2008-04-04</th>\n",
       "      <td>4.4</td>\n",
       "      <td>6.87</td>\n",
       "    </tr>\n",
       "    <tr>\n",
       "      <th>2008-04-05</th>\n",
       "      <td>5.9</td>\n",
       "      <td>6.87</td>\n",
       "    </tr>\n",
       "    <tr>\n",
       "      <th>...</th>\n",
       "      <td>...</td>\n",
       "      <td>...</td>\n",
       "    </tr>\n",
       "    <tr>\n",
       "      <th>2021-04-26</th>\n",
       "      <td>7.7</td>\n",
       "      <td>6.87</td>\n",
       "    </tr>\n",
       "    <tr>\n",
       "      <th>2021-04-27</th>\n",
       "      <td>9.3</td>\n",
       "      <td>6.87</td>\n",
       "    </tr>\n",
       "    <tr>\n",
       "      <th>2021-04-28</th>\n",
       "      <td>12.1</td>\n",
       "      <td>6.87</td>\n",
       "    </tr>\n",
       "    <tr>\n",
       "      <th>2021-04-29</th>\n",
       "      <td>12.2</td>\n",
       "      <td>6.87</td>\n",
       "    </tr>\n",
       "    <tr>\n",
       "      <th>2021-04-30</th>\n",
       "      <td>11.1</td>\n",
       "      <td>6.87</td>\n",
       "    </tr>\n",
       "  </tbody>\n",
       "</table>\n",
       "<p>4778 rows × 2 columns</p>\n",
       "</div>"
      ],
      "text/plain": [
       "              tg  monthly_mean\n",
       "date                          \n",
       "2008-04-01   9.3          6.87\n",
       "2008-04-02   6.6          6.87\n",
       "2008-04-03   4.3          6.87\n",
       "2008-04-04   4.4          6.87\n",
       "2008-04-05   5.9          6.87\n",
       "...          ...           ...\n",
       "2021-04-26   7.7          6.87\n",
       "2021-04-27   9.3          6.87\n",
       "2021-04-28  12.1          6.87\n",
       "2021-04-29  12.2          6.87\n",
       "2021-04-30  11.1          6.87\n",
       "\n",
       "[4778 rows x 2 columns]"
      ]
     },
     "execution_count": 65,
     "metadata": {},
     "output_type": "execute_result"
    }
   ],
   "source": [
    "df_weather.fillna(6.87)"
   ]
  },
  {
   "cell_type": "code",
   "execution_count": 66,
   "metadata": {},
   "outputs": [],
   "source": [
    "df = pd.read_csv(os.path.join(p_cwd, \"data\",\"barley_data\",\"ergolding_data.csv\"), parse_dates=['date'])"
   ]
  },
  {
   "cell_type": "code",
   "execution_count": 67,
   "metadata": {},
   "outputs": [],
   "source": [
    "df.drop(['provider_id','lon','lat','alt','alt_dem','gss_id','genus','species','subspecies','affected_flag','qc_flag','qc_ori_flag'], axis=1, inplace=True)"
   ]
  },
  {
   "cell_type": "code",
   "execution_count": 68,
   "metadata": {},
   "outputs": [],
   "source": [
    "df_winter =df[df['cult_season']==2]"
   ]
  },
  {
   "cell_type": "code",
   "execution_count": 69,
   "metadata": {},
   "outputs": [
    {
     "name": "stderr",
     "output_type": "stream",
     "text": [
      "/Users/giudittaparolini/anaconda3/envs/testenv/lib/python3.7/site-packages/pandas/core/frame.py:4315: SettingWithCopyWarning: \n",
      "A value is trying to be set on a copy of a slice from a DataFrame\n",
      "\n",
      "See the caveats in the documentation: https://pandas.pydata.org/pandas-docs/stable/user_guide/indexing.html#returning-a-view-versus-a-copy\n",
      "  errors=errors,\n"
     ]
    }
   ],
   "source": [
    "df_winter.drop(['cult_season'], axis=1, inplace=True)"
   ]
  },
  {
   "cell_type": "code",
   "execution_count": 70,
   "metadata": {},
   "outputs": [
    {
     "data": {
      "text/plain": [
       "s_id                 int64\n",
       "phase_id             int64\n",
       "year                 int64\n",
       "day                  int64\n",
       "date        datetime64[ns]\n",
       "dtype: object"
      ]
     },
     "execution_count": 70,
     "metadata": {},
     "output_type": "execute_result"
    }
   ],
   "source": [
    "df_winter.dtypes"
   ]
  },
  {
   "cell_type": "code",
   "execution_count": 71,
   "metadata": {},
   "outputs": [],
   "source": [
    "df_all = df_winter.merge(df_weather, left_on='date', right_on='date', how='inner')"
   ]
  },
  {
   "cell_type": "code",
   "execution_count": 72,
   "metadata": {},
   "outputs": [
    {
     "data": {
      "text/plain": [
       "s_id                     int64\n",
       "phase_id                 int64\n",
       "year                     int64\n",
       "day                      int64\n",
       "date            datetime64[ns]\n",
       "tg                     float64\n",
       "monthly_mean           float64\n",
       "dtype: object"
      ]
     },
     "execution_count": 72,
     "metadata": {},
     "output_type": "execute_result"
    }
   ],
   "source": [
    "df_all.dtypes"
   ]
  },
  {
   "cell_type": "code",
   "execution_count": 73,
   "metadata": {},
   "outputs": [],
   "source": [
    "df_all['s_id']=df_all['s_id'].astype(\"category\")"
   ]
  },
  {
   "cell_type": "code",
   "execution_count": 74,
   "metadata": {},
   "outputs": [],
   "source": [
    "df_all['phase_id']=df_all['phase_id'].astype(\"category\")"
   ]
  },
  {
   "cell_type": "code",
   "execution_count": 75,
   "metadata": {},
   "outputs": [
    {
     "data": {
      "text/plain": [
       "[85, 100, 0, 10, 31, 51]"
      ]
     },
     "execution_count": 75,
     "metadata": {},
     "output_type": "execute_result"
    }
   ],
   "source": [
    "df_all['phase_id'].unique().tolist()"
   ]
  },
  {
   "cell_type": "code",
   "execution_count": 76,
   "metadata": {},
   "outputs": [
    {
     "data": {
      "text/plain": [
       "s_id                  category\n",
       "phase_id              category\n",
       "year                     int64\n",
       "day                      int64\n",
       "date            datetime64[ns]\n",
       "tg                     float64\n",
       "monthly_mean           float64\n",
       "dtype: object"
      ]
     },
     "execution_count": 76,
     "metadata": {},
     "output_type": "execute_result"
    }
   ],
   "source": [
    "df_all.dtypes"
   ]
  },
  {
   "cell_type": "code",
   "execution_count": 77,
   "metadata": {},
   "outputs": [],
   "source": [
    "df_all.drop(['s_id','date'], axis=1, inplace=True)"
   ]
  },
  {
   "cell_type": "code",
   "execution_count": 78,
   "metadata": {},
   "outputs": [
    {
     "data": {
      "text/html": [
       "<div>\n",
       "<style scoped>\n",
       "    .dataframe tbody tr th:only-of-type {\n",
       "        vertical-align: middle;\n",
       "    }\n",
       "\n",
       "    .dataframe tbody tr th {\n",
       "        vertical-align: top;\n",
       "    }\n",
       "\n",
       "    .dataframe thead th {\n",
       "        text-align: right;\n",
       "    }\n",
       "</style>\n",
       "<table border=\"1\" class=\"dataframe\">\n",
       "  <thead>\n",
       "    <tr style=\"text-align: right;\">\n",
       "      <th></th>\n",
       "      <th>phase_id</th>\n",
       "      <th>year</th>\n",
       "      <th>day</th>\n",
       "      <th>tg</th>\n",
       "      <th>monthly_mean</th>\n",
       "    </tr>\n",
       "  </thead>\n",
       "  <tbody>\n",
       "    <tr>\n",
       "      <th>1</th>\n",
       "      <td>100</td>\n",
       "      <td>2010</td>\n",
       "      <td>198</td>\n",
       "      <td>20.8</td>\n",
       "      <td>20.403226</td>\n",
       "    </tr>\n",
       "    <tr>\n",
       "      <th>6</th>\n",
       "      <td>100</td>\n",
       "      <td>2011</td>\n",
       "      <td>197</td>\n",
       "      <td>17.8</td>\n",
       "      <td>16.151613</td>\n",
       "    </tr>\n",
       "    <tr>\n",
       "      <th>10</th>\n",
       "      <td>100</td>\n",
       "      <td>2012</td>\n",
       "      <td>205</td>\n",
       "      <td>16.2</td>\n",
       "      <td>18.341935</td>\n",
       "    </tr>\n",
       "    <tr>\n",
       "      <th>16</th>\n",
       "      <td>100</td>\n",
       "      <td>2013</td>\n",
       "      <td>203</td>\n",
       "      <td>23.2</td>\n",
       "      <td>20.893548</td>\n",
       "    </tr>\n",
       "    <tr>\n",
       "      <th>22</th>\n",
       "      <td>100</td>\n",
       "      <td>2014</td>\n",
       "      <td>186</td>\n",
       "      <td>19.9</td>\n",
       "      <td>18.870968</td>\n",
       "    </tr>\n",
       "    <tr>\n",
       "      <th>28</th>\n",
       "      <td>100</td>\n",
       "      <td>2015</td>\n",
       "      <td>187</td>\n",
       "      <td>25.2</td>\n",
       "      <td>21.741935</td>\n",
       "    </tr>\n",
       "    <tr>\n",
       "      <th>34</th>\n",
       "      <td>100</td>\n",
       "      <td>2016</td>\n",
       "      <td>189</td>\n",
       "      <td>18.2</td>\n",
       "      <td>19.500000</td>\n",
       "    </tr>\n",
       "    <tr>\n",
       "      <th>40</th>\n",
       "      <td>100</td>\n",
       "      <td>2017</td>\n",
       "      <td>193</td>\n",
       "      <td>18.6</td>\n",
       "      <td>19.419355</td>\n",
       "    </tr>\n",
       "    <tr>\n",
       "      <th>46</th>\n",
       "      <td>100</td>\n",
       "      <td>2018</td>\n",
       "      <td>173</td>\n",
       "      <td>11.9</td>\n",
       "      <td>18.126667</td>\n",
       "    </tr>\n",
       "    <tr>\n",
       "      <th>52</th>\n",
       "      <td>100</td>\n",
       "      <td>2019</td>\n",
       "      <td>186</td>\n",
       "      <td>21.2</td>\n",
       "      <td>20.312903</td>\n",
       "    </tr>\n",
       "    <tr>\n",
       "      <th>58</th>\n",
       "      <td>100</td>\n",
       "      <td>2008</td>\n",
       "      <td>191</td>\n",
       "      <td>14.9</td>\n",
       "      <td>17.970968</td>\n",
       "    </tr>\n",
       "    <tr>\n",
       "      <th>64</th>\n",
       "      <td>100</td>\n",
       "      <td>2009</td>\n",
       "      <td>198</td>\n",
       "      <td>21.1</td>\n",
       "      <td>18.309677</td>\n",
       "    </tr>\n",
       "  </tbody>\n",
       "</table>\n",
       "</div>"
      ],
      "text/plain": [
       "   phase_id  year  day    tg  monthly_mean\n",
       "1       100  2010  198  20.8     20.403226\n",
       "6       100  2011  197  17.8     16.151613\n",
       "10      100  2012  205  16.2     18.341935\n",
       "16      100  2013  203  23.2     20.893548\n",
       "22      100  2014  186  19.9     18.870968\n",
       "28      100  2015  187  25.2     21.741935\n",
       "34      100  2016  189  18.2     19.500000\n",
       "40      100  2017  193  18.6     19.419355\n",
       "46      100  2018  173  11.9     18.126667\n",
       "52      100  2019  186  21.2     20.312903\n",
       "58      100  2008  191  14.9     17.970968\n",
       "64      100  2009  198  21.1     18.309677"
      ]
     },
     "execution_count": 78,
     "metadata": {},
     "output_type": "execute_result"
    }
   ],
   "source": [
    "df_all[df_all['phase_id']==100]"
   ]
  },
  {
   "cell_type": "code",
   "execution_count": 79,
   "metadata": {},
   "outputs": [
    {
     "data": {
      "text/html": [
       "<div>\n",
       "<style scoped>\n",
       "    .dataframe tbody tr th:only-of-type {\n",
       "        vertical-align: middle;\n",
       "    }\n",
       "\n",
       "    .dataframe tbody tr th {\n",
       "        vertical-align: top;\n",
       "    }\n",
       "\n",
       "    .dataframe thead th {\n",
       "        text-align: right;\n",
       "    }\n",
       "</style>\n",
       "<table border=\"1\" class=\"dataframe\">\n",
       "  <thead>\n",
       "    <tr style=\"text-align: right;\">\n",
       "      <th></th>\n",
       "      <th>phase_id</th>\n",
       "      <th>year</th>\n",
       "      <th>day</th>\n",
       "      <th>tg</th>\n",
       "      <th>monthly_mean</th>\n",
       "    </tr>\n",
       "  </thead>\n",
       "  <tbody>\n",
       "    <tr>\n",
       "      <th>60</th>\n",
       "      <td>10</td>\n",
       "      <td>2008</td>\n",
       "      <td>300</td>\n",
       "      <td>3.6</td>\n",
       "      <td>9.012903</td>\n",
       "    </tr>\n",
       "    <tr>\n",
       "      <th>59</th>\n",
       "      <td>0</td>\n",
       "      <td>2008</td>\n",
       "      <td>284</td>\n",
       "      <td>9.9</td>\n",
       "      <td>9.012903</td>\n",
       "    </tr>\n",
       "    <tr>\n",
       "      <th>58</th>\n",
       "      <td>100</td>\n",
       "      <td>2008</td>\n",
       "      <td>191</td>\n",
       "      <td>14.9</td>\n",
       "      <td>17.970968</td>\n",
       "    </tr>\n",
       "    <tr>\n",
       "      <th>57</th>\n",
       "      <td>85</td>\n",
       "      <td>2008</td>\n",
       "      <td>174</td>\n",
       "      <td>24.7</td>\n",
       "      <td>17.760000</td>\n",
       "    </tr>\n",
       "    <tr>\n",
       "      <th>56</th>\n",
       "      <td>51</td>\n",
       "      <td>2008</td>\n",
       "      <td>141</td>\n",
       "      <td>9.0</td>\n",
       "      <td>14.887097</td>\n",
       "    </tr>\n",
       "    <tr>\n",
       "      <th>...</th>\n",
       "      <td>...</td>\n",
       "      <td>...</td>\n",
       "      <td>...</td>\n",
       "      <td>...</td>\n",
       "      <td>...</td>\n",
       "    </tr>\n",
       "    <tr>\n",
       "      <th>53</th>\n",
       "      <td>0</td>\n",
       "      <td>2019</td>\n",
       "      <td>273</td>\n",
       "      <td>15.0</td>\n",
       "      <td>14.710000</td>\n",
       "    </tr>\n",
       "    <tr>\n",
       "      <th>52</th>\n",
       "      <td>100</td>\n",
       "      <td>2019</td>\n",
       "      <td>186</td>\n",
       "      <td>21.2</td>\n",
       "      <td>20.312903</td>\n",
       "    </tr>\n",
       "    <tr>\n",
       "      <th>51</th>\n",
       "      <td>85</td>\n",
       "      <td>2019</td>\n",
       "      <td>172</td>\n",
       "      <td>18.9</td>\n",
       "      <td>20.810000</td>\n",
       "    </tr>\n",
       "    <tr>\n",
       "      <th>50</th>\n",
       "      <td>51</td>\n",
       "      <td>2019</td>\n",
       "      <td>129</td>\n",
       "      <td>11.3</td>\n",
       "      <td>11.125806</td>\n",
       "    </tr>\n",
       "    <tr>\n",
       "      <th>49</th>\n",
       "      <td>31</td>\n",
       "      <td>2019</td>\n",
       "      <td>100</td>\n",
       "      <td>9.3</td>\n",
       "      <td>10.373333</td>\n",
       "    </tr>\n",
       "  </tbody>\n",
       "</table>\n",
       "<p>69 rows × 5 columns</p>\n",
       "</div>"
      ],
      "text/plain": [
       "   phase_id  year  day    tg  monthly_mean\n",
       "60       10  2008  300   3.6      9.012903\n",
       "59        0  2008  284   9.9      9.012903\n",
       "58      100  2008  191  14.9     17.970968\n",
       "57       85  2008  174  24.7     17.760000\n",
       "56       51  2008  141   9.0     14.887097\n",
       "..      ...   ...  ...   ...           ...\n",
       "53        0  2019  273  15.0     14.710000\n",
       "52      100  2019  186  21.2     20.312903\n",
       "51       85  2019  172  18.9     20.810000\n",
       "50       51  2019  129  11.3     11.125806\n",
       "49       31  2019  100   9.3     10.373333\n",
       "\n",
       "[69 rows x 5 columns]"
      ]
     },
     "execution_count": 79,
     "metadata": {},
     "output_type": "execute_result"
    }
   ],
   "source": [
    "df_all.sort_values(by='year')"
   ]
  },
  {
   "cell_type": "markdown",
   "metadata": {},
   "source": [
    "## Analysis of the harvest data (phase:100(5))"
   ]
  },
  {
   "cell_type": "code",
   "execution_count": 80,
   "metadata": {},
   "outputs": [],
   "source": [
    "df_harvest = df_all[df_all['phase_id']==100]"
   ]
  },
  {
   "cell_type": "code",
   "execution_count": 81,
   "metadata": {},
   "outputs": [
    {
     "name": "stderr",
     "output_type": "stream",
     "text": [
      "/Users/giudittaparolini/anaconda3/envs/testenv/lib/python3.7/site-packages/pandas/core/frame.py:4315: SettingWithCopyWarning: \n",
      "A value is trying to be set on a copy of a slice from a DataFrame\n",
      "\n",
      "See the caveats in the documentation: https://pandas.pydata.org/pandas-docs/stable/user_guide/indexing.html#returning-a-view-versus-a-copy\n",
      "  errors=errors,\n"
     ]
    }
   ],
   "source": [
    "df_harvest.drop(['phase_id'], axis=1, inplace=True)"
   ]
  },
  {
   "cell_type": "code",
   "execution_count": 96,
   "metadata": {},
   "outputs": [
    {
     "data": {
      "text/html": [
       "<div>\n",
       "<style scoped>\n",
       "    .dataframe tbody tr th:only-of-type {\n",
       "        vertical-align: middle;\n",
       "    }\n",
       "\n",
       "    .dataframe tbody tr th {\n",
       "        vertical-align: top;\n",
       "    }\n",
       "\n",
       "    .dataframe thead th {\n",
       "        text-align: right;\n",
       "    }\n",
       "</style>\n",
       "<table border=\"1\" class=\"dataframe\">\n",
       "  <thead>\n",
       "    <tr style=\"text-align: right;\">\n",
       "      <th></th>\n",
       "      <th>year</th>\n",
       "      <th>day</th>\n",
       "      <th>tg</th>\n",
       "      <th>monthly_mean</th>\n",
       "    </tr>\n",
       "  </thead>\n",
       "  <tbody>\n",
       "    <tr>\n",
       "      <th>58</th>\n",
       "      <td>2008</td>\n",
       "      <td>191</td>\n",
       "      <td>14.9</td>\n",
       "      <td>17.970968</td>\n",
       "    </tr>\n",
       "    <tr>\n",
       "      <th>64</th>\n",
       "      <td>2009</td>\n",
       "      <td>198</td>\n",
       "      <td>21.1</td>\n",
       "      <td>18.309677</td>\n",
       "    </tr>\n",
       "    <tr>\n",
       "      <th>1</th>\n",
       "      <td>2010</td>\n",
       "      <td>198</td>\n",
       "      <td>20.8</td>\n",
       "      <td>20.403226</td>\n",
       "    </tr>\n",
       "    <tr>\n",
       "      <th>6</th>\n",
       "      <td>2011</td>\n",
       "      <td>197</td>\n",
       "      <td>17.8</td>\n",
       "      <td>16.151613</td>\n",
       "    </tr>\n",
       "    <tr>\n",
       "      <th>10</th>\n",
       "      <td>2012</td>\n",
       "      <td>205</td>\n",
       "      <td>16.2</td>\n",
       "      <td>18.341935</td>\n",
       "    </tr>\n",
       "    <tr>\n",
       "      <th>16</th>\n",
       "      <td>2013</td>\n",
       "      <td>203</td>\n",
       "      <td>23.2</td>\n",
       "      <td>20.893548</td>\n",
       "    </tr>\n",
       "    <tr>\n",
       "      <th>22</th>\n",
       "      <td>2014</td>\n",
       "      <td>186</td>\n",
       "      <td>19.9</td>\n",
       "      <td>18.870968</td>\n",
       "    </tr>\n",
       "    <tr>\n",
       "      <th>28</th>\n",
       "      <td>2015</td>\n",
       "      <td>187</td>\n",
       "      <td>25.2</td>\n",
       "      <td>21.741935</td>\n",
       "    </tr>\n",
       "    <tr>\n",
       "      <th>34</th>\n",
       "      <td>2016</td>\n",
       "      <td>189</td>\n",
       "      <td>18.2</td>\n",
       "      <td>19.500000</td>\n",
       "    </tr>\n",
       "    <tr>\n",
       "      <th>40</th>\n",
       "      <td>2017</td>\n",
       "      <td>193</td>\n",
       "      <td>18.6</td>\n",
       "      <td>19.419355</td>\n",
       "    </tr>\n",
       "    <tr>\n",
       "      <th>46</th>\n",
       "      <td>2018</td>\n",
       "      <td>173</td>\n",
       "      <td>11.9</td>\n",
       "      <td>18.126667</td>\n",
       "    </tr>\n",
       "    <tr>\n",
       "      <th>52</th>\n",
       "      <td>2019</td>\n",
       "      <td>186</td>\n",
       "      <td>21.2</td>\n",
       "      <td>20.312903</td>\n",
       "    </tr>\n",
       "  </tbody>\n",
       "</table>\n",
       "</div>"
      ],
      "text/plain": [
       "    year  day    tg  monthly_mean\n",
       "58  2008  191  14.9     17.970968\n",
       "64  2009  198  21.1     18.309677\n",
       "1   2010  198  20.8     20.403226\n",
       "6   2011  197  17.8     16.151613\n",
       "10  2012  205  16.2     18.341935\n",
       "16  2013  203  23.2     20.893548\n",
       "22  2014  186  19.9     18.870968\n",
       "28  2015  187  25.2     21.741935\n",
       "34  2016  189  18.2     19.500000\n",
       "40  2017  193  18.6     19.419355\n",
       "46  2018  173  11.9     18.126667\n",
       "52  2019  186  21.2     20.312903"
      ]
     },
     "execution_count": 96,
     "metadata": {},
     "output_type": "execute_result"
    }
   ],
   "source": [
    "df_harvest.sort_values(by='year')"
   ]
  },
  {
   "cell_type": "code",
   "execution_count": 126,
   "metadata": {},
   "outputs": [
    {
     "data": {
      "image/png": "[encoded data removed]",
      "text/plain": [
       "<Figure size 1440x1080 with 1 Axes>"
      ]
     },
     "metadata": {
      "needs_background": "light"
     },
     "output_type": "display_data"
    }
   ],
   "source": [
    "fig = plt.figure(figsize=(20,15))\n",
    "plt.title(\"Winter Barley Harvest Temperature Data\")\n",
    "plt.grid()\n",
    "sns.lineplot(x=df_harvest['day'],y=df_harvest['tg'])\n",
    "sns.lineplot(x=df_harvest['day'],y=df_harvest['monthly_mean']);"
   ]
  },
  {
   "cell_type": "code",
   "execution_count": 128,
   "metadata": {},
   "outputs": [
    {
     "data": {
      "image/png": "[encoded data removed]",
      "text/plain": [
       "<Figure size 1440x720 with 1 Axes>"
      ]
     },
     "metadata": {
      "needs_background": "light"
     },
     "output_type": "display_data"
    }
   ],
   "source": [
    "# create figure and axis objects with subplots()\n",
    "fig,ax=plt.subplots(figsize=(20,10))\n",
    "ax.scatter(df_harvest.day, df_harvest.tg)\n",
    "ax.set_xlabel(\"Year\")\n",
    "ax.set_ylabel(\"Daily Mean Temperature/Monthly Mean Temperature\")\n",
    "ax.scatter(df_harvest.day, df_harvest.monthly_mean)\n",
    "#ax.scatter(df_harvest.year, df_harvest.day)\n",
    "plt.grid()\n",
    "plt.show();"
   ]
  },
  {
   "cell_type": "code",
   "execution_count": 84,
   "metadata": {},
   "outputs": [],
   "source": [
    "fig.savefig(os.path.join(p_cwd, \"output\",\"images\",\"temperature_data_winterbarley_harvest.jpg\"), dpi=300,\n",
    "        orientation='portrait')"
   ]
  },
  {
   "cell_type": "code",
   "execution_count": 85,
   "metadata": {},
   "outputs": [],
   "source": [
    "X=df_harvest.drop(['day'], axis=1)"
   ]
  },
  {
   "cell_type": "code",
   "execution_count": 86,
   "metadata": {},
   "outputs": [],
   "source": [
    "y=df_harvest['day']"
   ]
  },
  {
   "cell_type": "code",
   "execution_count": 87,
   "metadata": {},
   "outputs": [],
   "source": [
    "import statsmodels.api as sm\n",
    "X = sm.add_constant(X)\n",
    "model = sm.OLS(y,X).fit()"
   ]
  },
  {
   "cell_type": "code",
   "execution_count": 88,
   "metadata": {},
   "outputs": [
    {
     "name": "stderr",
     "output_type": "stream",
     "text": [
      "/Users/giudittaparolini/anaconda3/envs/testenv/lib/python3.7/site-packages/scipy/stats/stats.py:1535: UserWarning: kurtosistest only valid for n>=20 ... continuing anyway, n=12\n",
      "  \"anyway, n=%i\" % int(n))\n"
     ]
    },
    {
     "data": {
      "text/html": [
       "<table class=\"simpletable\">\n",
       "<caption>OLS Regression Results</caption>\n",
       "<tr>\n",
       "  <th>Dep. Variable:</th>           <td>day</td>       <th>  R-squared:         </th> <td>   0.482</td>\n",
       "</tr>\n",
       "<tr>\n",
       "  <th>Model:</th>                   <td>OLS</td>       <th>  Adj. R-squared:    </th> <td>   0.288</td>\n",
       "</tr>\n",
       "<tr>\n",
       "  <th>Method:</th>             <td>Least Squares</td>  <th>  F-statistic:       </th> <td>   2.484</td>\n",
       "</tr>\n",
       "<tr>\n",
       "  <th>Date:</th>             <td>Tue, 08 Jun 2021</td> <th>  Prob (F-statistic):</th>  <td> 0.135</td> \n",
       "</tr>\n",
       "<tr>\n",
       "  <th>Time:</th>                 <td>18:12:43</td>     <th>  Log-Likelihood:    </th> <td> -38.680</td>\n",
       "</tr>\n",
       "<tr>\n",
       "  <th>No. Observations:</th>      <td>    12</td>      <th>  AIC:               </th> <td>   85.36</td>\n",
       "</tr>\n",
       "<tr>\n",
       "  <th>Df Residuals:</th>          <td>     8</td>      <th>  BIC:               </th> <td>   87.30</td>\n",
       "</tr>\n",
       "<tr>\n",
       "  <th>Df Model:</th>              <td>     3</td>      <th>                     </th>     <td> </td>   \n",
       "</tr>\n",
       "<tr>\n",
       "  <th>Covariance Type:</th>      <td>nonrobust</td>    <th>                     </th>     <td> </td>   \n",
       "</tr>\n",
       "</table>\n",
       "<table class=\"simpletable\">\n",
       "<tr>\n",
       "        <td></td>          <th>coef</th>     <th>std err</th>      <th>t</th>      <th>P>|t|</th>  <th>[0.025</th>    <th>0.975]</th>  \n",
       "</tr>\n",
       "<tr>\n",
       "  <th>const</th>        <td> 2982.1171</td> <td> 1436.834</td> <td>    2.075</td> <td> 0.072</td> <td> -331.227</td> <td> 6295.462</td>\n",
       "</tr>\n",
       "<tr>\n",
       "  <th>year</th>         <td>   -1.3891</td> <td>    0.722</td> <td>   -1.925</td> <td> 0.090</td> <td>   -3.053</td> <td>    0.275</td>\n",
       "</tr>\n",
       "<tr>\n",
       "  <th>tg</th>           <td>    0.9740</td> <td>    0.952</td> <td>    1.023</td> <td> 0.336</td> <td>   -1.221</td> <td>    3.169</td>\n",
       "</tr>\n",
       "<tr>\n",
       "  <th>monthly_mean</th> <td>   -0.6076</td> <td>    2.423</td> <td>   -0.251</td> <td> 0.808</td> <td>   -6.195</td> <td>    4.979</td>\n",
       "</tr>\n",
       "</table>\n",
       "<table class=\"simpletable\">\n",
       "<tr>\n",
       "  <th>Omnibus:</th>       <td> 1.385</td> <th>  Durbin-Watson:     </th> <td>   1.631</td>\n",
       "</tr>\n",
       "<tr>\n",
       "  <th>Prob(Omnibus):</th> <td> 0.500</td> <th>  Jarque-Bera (JB):  </th> <td>   0.915</td>\n",
       "</tr>\n",
       "<tr>\n",
       "  <th>Skew:</th>          <td> 0.629</td> <th>  Prob(JB):          </th> <td>   0.633</td>\n",
       "</tr>\n",
       "<tr>\n",
       "  <th>Kurtosis:</th>      <td> 2.504</td> <th>  Cond. No.          </th> <td>1.35e+06</td>\n",
       "</tr>\n",
       "</table><br/><br/>Warnings:<br/>[1] Standard Errors assume that the covariance matrix of the errors is correctly specified.<br/>[2] The condition number is large, 1.35e+06. This might indicate that there are<br/>strong multicollinearity or other numerical problems."
      ],
      "text/plain": [
       "<class 'statsmodels.iolib.summary.Summary'>\n",
       "\"\"\"\n",
       "                            OLS Regression Results                            \n",
       "==============================================================================\n",
       "Dep. Variable:                    day   R-squared:                       0.482\n",
       "Model:                            OLS   Adj. R-squared:                  0.288\n",
       "Method:                 Least Squares   F-statistic:                     2.484\n",
       "Date:                Tue, 08 Jun 2021   Prob (F-statistic):              0.135\n",
       "Time:                        18:12:43   Log-Likelihood:                -38.680\n",
       "No. Observations:                  12   AIC:                             85.36\n",
       "Df Residuals:                       8   BIC:                             87.30\n",
       "Df Model:                           3                                         \n",
       "Covariance Type:            nonrobust                                         \n",
       "================================================================================\n",
       "                   coef    std err          t      P>|t|      [0.025      0.975]\n",
       "--------------------------------------------------------------------------------\n",
       "const         2982.1171   1436.834      2.075      0.072    -331.227    6295.462\n",
       "year            -1.3891      0.722     -1.925      0.090      -3.053       0.275\n",
       "tg               0.9740      0.952      1.023      0.336      -1.221       3.169\n",
       "monthly_mean    -0.6076      2.423     -0.251      0.808      -6.195       4.979\n",
       "==============================================================================\n",
       "Omnibus:                        1.385   Durbin-Watson:                   1.631\n",
       "Prob(Omnibus):                  0.500   Jarque-Bera (JB):                0.915\n",
       "Skew:                           0.629   Prob(JB):                        0.633\n",
       "Kurtosis:                       2.504   Cond. No.                     1.35e+06\n",
       "==============================================================================\n",
       "\n",
       "Warnings:\n",
       "[1] Standard Errors assume that the covariance matrix of the errors is correctly specified.\n",
       "[2] The condition number is large, 1.35e+06. This might indicate that there are\n",
       "strong multicollinearity or other numerical problems.\n",
       "\"\"\""
      ]
     },
     "execution_count": 88,
     "metadata": {},
     "output_type": "execute_result"
    }
   ],
   "source": [
    "model.summary()"
   ]
  },
  {
   "cell_type": "code",
   "execution_count": 89,
   "metadata": {},
   "outputs": [
    {
     "name": "stderr",
     "output_type": "stream",
     "text": [
      "/Users/giudittaparolini/anaconda3/envs/testenv/lib/python3.7/site-packages/scipy/stats/stats.py:1535: UserWarning: kurtosistest only valid for n>=20 ... continuing anyway, n=10\n",
      "  \"anyway, n=%i\" % int(n))\n"
     ]
    },
    {
     "data": {
      "text/html": [
       "<table class=\"simpletable\">\n",
       "<caption>GLSAR Regression Results</caption>\n",
       "<tr>\n",
       "  <th>Dep. Variable:</th>           <td>day</td>       <th>  R-squared:         </th> <td>   0.745</td>\n",
       "</tr>\n",
       "<tr>\n",
       "  <th>Model:</th>                  <td>GLSAR</td>      <th>  Adj. R-squared:    </th> <td>   0.617</td>\n",
       "</tr>\n",
       "<tr>\n",
       "  <th>Method:</th>             <td>Least Squares</td>  <th>  F-statistic:       </th> <td>   5.841</td>\n",
       "</tr>\n",
       "<tr>\n",
       "  <th>Date:</th>             <td>Tue, 08 Jun 2021</td> <th>  Prob (F-statistic):</th>  <td>0.0326</td> \n",
       "</tr>\n",
       "<tr>\n",
       "  <th>Time:</th>                 <td>18:12:43</td>     <th>  Log-Likelihood:    </th> <td> -30.348</td>\n",
       "</tr>\n",
       "<tr>\n",
       "  <th>No. Observations:</th>      <td>    10</td>      <th>  AIC:               </th> <td>   68.70</td>\n",
       "</tr>\n",
       "<tr>\n",
       "  <th>Df Residuals:</th>          <td>     6</td>      <th>  BIC:               </th> <td>   69.91</td>\n",
       "</tr>\n",
       "<tr>\n",
       "  <th>Df Model:</th>              <td>     3</td>      <th>                     </th>     <td> </td>   \n",
       "</tr>\n",
       "<tr>\n",
       "  <th>Covariance Type:</th>      <td>nonrobust</td>    <th>                     </th>     <td> </td>   \n",
       "</tr>\n",
       "</table>\n",
       "<table class=\"simpletable\">\n",
       "<tr>\n",
       "        <td></td>          <th>coef</th>     <th>std err</th>      <th>t</th>      <th>P>|t|</th>  <th>[0.025</th>    <th>0.975]</th>  \n",
       "</tr>\n",
       "<tr>\n",
       "  <th>const</th>        <td> 3472.1644</td> <td> 1404.019</td> <td>    2.473</td> <td> 0.048</td> <td>   36.653</td> <td> 6907.675</td>\n",
       "</tr>\n",
       "<tr>\n",
       "  <th>year</th>         <td>   -1.6491</td> <td>    0.699</td> <td>   -2.360</td> <td> 0.056</td> <td>   -3.359</td> <td>    0.060</td>\n",
       "</tr>\n",
       "<tr>\n",
       "  <th>tg</th>           <td>    1.2318</td> <td>    0.615</td> <td>    2.004</td> <td> 0.092</td> <td>   -0.272</td> <td>    2.736</td>\n",
       "</tr>\n",
       "<tr>\n",
       "  <th>monthly_mean</th> <td>    0.8828</td> <td>    1.892</td> <td>    0.467</td> <td> 0.657</td> <td>   -3.746</td> <td>    5.512</td>\n",
       "</tr>\n",
       "</table>\n",
       "<table class=\"simpletable\">\n",
       "<tr>\n",
       "  <th>Omnibus:</th>       <td> 0.991</td> <th>  Durbin-Watson:     </th> <td>   2.454</td>\n",
       "</tr>\n",
       "<tr>\n",
       "  <th>Prob(Omnibus):</th> <td> 0.609</td> <th>  Jarque-Bera (JB):  </th> <td>   0.783</td>\n",
       "</tr>\n",
       "<tr>\n",
       "  <th>Skew:</th>          <td> 0.456</td> <th>  Prob(JB):          </th> <td>   0.676</td>\n",
       "</tr>\n",
       "<tr>\n",
       "  <th>Kurtosis:</th>      <td> 1.977</td> <th>  Cond. No.          </th> <td>1.64e+06</td>\n",
       "</tr>\n",
       "</table><br/><br/>Warnings:<br/>[1] Standard Errors assume that the covariance matrix of the errors is correctly specified.<br/>[2] The condition number is large, 1.64e+06. This might indicate that there are<br/>strong multicollinearity or other numerical problems."
      ],
      "text/plain": [
       "<class 'statsmodels.iolib.summary.Summary'>\n",
       "\"\"\"\n",
       "                           GLSAR Regression Results                           \n",
       "==============================================================================\n",
       "Dep. Variable:                    day   R-squared:                       0.745\n",
       "Model:                          GLSAR   Adj. R-squared:                  0.617\n",
       "Method:                 Least Squares   F-statistic:                     5.841\n",
       "Date:                Tue, 08 Jun 2021   Prob (F-statistic):             0.0326\n",
       "Time:                        18:12:43   Log-Likelihood:                -30.348\n",
       "No. Observations:                  10   AIC:                             68.70\n",
       "Df Residuals:                       6   BIC:                             69.91\n",
       "Df Model:                           3                                         \n",
       "Covariance Type:            nonrobust                                         \n",
       "================================================================================\n",
       "                   coef    std err          t      P>|t|      [0.025      0.975]\n",
       "--------------------------------------------------------------------------------\n",
       "const         3472.1644   1404.019      2.473      0.048      36.653    6907.675\n",
       "year            -1.6491      0.699     -2.360      0.056      -3.359       0.060\n",
       "tg               1.2318      0.615      2.004      0.092      -0.272       2.736\n",
       "monthly_mean     0.8828      1.892      0.467      0.657      -3.746       5.512\n",
       "==============================================================================\n",
       "Omnibus:                        0.991   Durbin-Watson:                   2.454\n",
       "Prob(Omnibus):                  0.609   Jarque-Bera (JB):                0.783\n",
       "Skew:                           0.456   Prob(JB):                        0.676\n",
       "Kurtosis:                       1.977   Cond. No.                     1.64e+06\n",
       "==============================================================================\n",
       "\n",
       "Warnings:\n",
       "[1] Standard Errors assume that the covariance matrix of the errors is correctly specified.\n",
       "[2] The condition number is large, 1.64e+06. This might indicate that there are\n",
       "strong multicollinearity or other numerical problems.\n",
       "\"\"\""
      ]
     },
     "execution_count": 89,
     "metadata": {},
     "output_type": "execute_result"
    }
   ],
   "source": [
    "model2 = sm.GLSAR(y, X, rho=2)\n",
    "res = model2.iterative_fit(maxiter=100)\n",
    "res.summary()"
   ]
  },
  {
   "cell_type": "code",
   "execution_count": 90,
   "metadata": {},
   "outputs": [],
   "source": [
    "X_=df_harvest.drop(['day','tg','monthly_mean'], axis=1)"
   ]
  },
  {
   "cell_type": "code",
   "execution_count": 91,
   "metadata": {},
   "outputs": [
    {
     "data": {
      "text/plain": [
       "1     198\n",
       "6     197\n",
       "10    205\n",
       "16    203\n",
       "22    186\n",
       "28    187\n",
       "34    189\n",
       "40    193\n",
       "46    173\n",
       "52    186\n",
       "58    191\n",
       "64    198\n",
       "Name: day, dtype: int64"
      ]
     },
     "execution_count": 91,
     "metadata": {},
     "output_type": "execute_result"
    }
   ],
   "source": [
    "y"
   ]
  },
  {
   "cell_type": "code",
   "execution_count": 92,
   "metadata": {},
   "outputs": [
    {
     "data": {
      "text/html": [
       "<table class=\"simpletable\">\n",
       "<caption>GLSAR Regression Results</caption>\n",
       "<tr>\n",
       "  <th>Dep. Variable:</th>           <td>day</td>       <th>  R-squared (uncentered):</th>      <td>   0.996</td>\n",
       "</tr>\n",
       "<tr>\n",
       "  <th>Model:</th>                  <td>GLSAR</td>      <th>  Adj. R-squared (uncentered):</th> <td>   0.995</td>\n",
       "</tr>\n",
       "<tr>\n",
       "  <th>Method:</th>             <td>Least Squares</td>  <th>  F-statistic:       </th>          <td>   2036.</td>\n",
       "</tr>\n",
       "<tr>\n",
       "  <th>Date:</th>             <td>Tue, 08 Jun 2021</td> <th>  Prob (F-statistic):</th>          <td>6.45e-12</td>\n",
       "</tr>\n",
       "<tr>\n",
       "  <th>Time:</th>                 <td>18:12:54</td>     <th>  Log-Likelihood:    </th>          <td> -35.464</td>\n",
       "</tr>\n",
       "<tr>\n",
       "  <th>No. Observations:</th>      <td>    10</td>      <th>  AIC:               </th>          <td>   72.93</td>\n",
       "</tr>\n",
       "<tr>\n",
       "  <th>Df Residuals:</th>          <td>     9</td>      <th>  BIC:               </th>          <td>   73.23</td>\n",
       "</tr>\n",
       "<tr>\n",
       "  <th>Df Model:</th>              <td>     1</td>      <th>                     </th>              <td> </td>   \n",
       "</tr>\n",
       "<tr>\n",
       "  <th>Covariance Type:</th>      <td>nonrobust</td>    <th>                     </th>              <td> </td>   \n",
       "</tr>\n",
       "</table>\n",
       "<table class=\"simpletable\">\n",
       "<tr>\n",
       "    <td></td>      <th>coef</th>     <th>std err</th>      <th>t</th>      <th>P>|t|</th>  <th>[0.025</th>    <th>0.975]</th>  \n",
       "</tr>\n",
       "<tr>\n",
       "  <th>year</th> <td>    0.0950</td> <td>    0.002</td> <td>   45.122</td> <td> 0.000</td> <td>    0.090</td> <td>    0.100</td>\n",
       "</tr>\n",
       "</table>\n",
       "<table class=\"simpletable\">\n",
       "<tr>\n",
       "  <th>Omnibus:</th>       <td> 5.259</td> <th>  Durbin-Watson:     </th> <td>   1.957</td>\n",
       "</tr>\n",
       "<tr>\n",
       "  <th>Prob(Omnibus):</th> <td> 0.072</td> <th>  Jarque-Bera (JB):  </th> <td>   1.923</td>\n",
       "</tr>\n",
       "<tr>\n",
       "  <th>Skew:</th>          <td>-1.029</td> <th>  Prob(JB):          </th> <td>   0.382</td>\n",
       "</tr>\n",
       "<tr>\n",
       "  <th>Kurtosis:</th>      <td> 3.620</td> <th>  Cond. No.          </th> <td>    1.00</td>\n",
       "</tr>\n",
       "</table><br/><br/>Warnings:<br/>[1] Standard Errors assume that the covariance matrix of the errors is correctly specified."
      ],
      "text/plain": [
       "<class 'statsmodels.iolib.summary.Summary'>\n",
       "\"\"\"\n",
       "                                GLSAR Regression Results                               \n",
       "=======================================================================================\n",
       "Dep. Variable:                    day   R-squared (uncentered):                   0.996\n",
       "Model:                          GLSAR   Adj. R-squared (uncentered):              0.995\n",
       "Method:                 Least Squares   F-statistic:                              2036.\n",
       "Date:                Tue, 08 Jun 2021   Prob (F-statistic):                    6.45e-12\n",
       "Time:                        18:12:54   Log-Likelihood:                         -35.464\n",
       "No. Observations:                  10   AIC:                                      72.93\n",
       "Df Residuals:                       9   BIC:                                      73.23\n",
       "Df Model:                           1                                                  \n",
       "Covariance Type:            nonrobust                                                  \n",
       "==============================================================================\n",
       "                 coef    std err          t      P>|t|      [0.025      0.975]\n",
       "------------------------------------------------------------------------------\n",
       "year           0.0950      0.002     45.122      0.000       0.090       0.100\n",
       "==============================================================================\n",
       "Omnibus:                        5.259   Durbin-Watson:                   1.957\n",
       "Prob(Omnibus):                  0.072   Jarque-Bera (JB):                1.923\n",
       "Skew:                          -1.029   Prob(JB):                        0.382\n",
       "Kurtosis:                       3.620   Cond. No.                         1.00\n",
       "==============================================================================\n",
       "\n",
       "Warnings:\n",
       "[1] Standard Errors assume that the covariance matrix of the errors is correctly specified.\n",
       "\"\"\""
      ]
     },
     "execution_count": 92,
     "metadata": {},
     "output_type": "execute_result"
    }
   ],
   "source": [
    "model2 = sm.GLSAR(y, X_, rho=2)\n",
    "X_ = sm.add_constant(X_)\n",
    "res = model2.iterative_fit(maxiter=100)\n",
    "res.summary()"
   ]
  },
  {
   "cell_type": "code",
   "execution_count": null,
   "metadata": {},
   "outputs": [],
   "source": []
  },
  {
   "cell_type": "code",
   "execution_count": null,
   "metadata": {},
   "outputs": [],
   "source": [
    "round(regr.score(X,y),3)"
   ]
  },
  {
   "cell_type": "code",
   "execution_count": null,
   "metadata": {},
   "outputs": [],
   "source": [
    "i = regr.intercept_.round(3)"
   ]
  },
  {
   "cell_type": "code",
   "execution_count": null,
   "metadata": {},
   "outputs": [],
   "source": [
    "c= regr.coef_.round(3)"
   ]
  },
  {
   "cell_type": "code",
   "execution_count": null,
   "metadata": {},
   "outputs": [],
   "source": [
    "fig = plt.figure(figsize=(20,10))\n",
    "plt.title(\"Winter Barley Harvest Data with superimposed linear regression model (scikit-learn)\")\n",
    "plt.grid()\n",
    "sns.scatterplot(x=df_harvest['year'],y=df_harvest['day_year'], hue=df['lat']);\n",
    "sns.lineplot(x=df_harvest['year'],y=i+c[0]*df_harvest['year'], c='cornflowerblue');"
   ]
  },
  {
   "cell_type": "code",
   "execution_count": null,
   "metadata": {},
   "outputs": [],
   "source": [
    "mu = np.mean(y)\n",
    "mu"
   ]
  },
  {
   "cell_type": "code",
   "execution_count": null,
   "metadata": {},
   "outputs": [],
   "source": [
    "sample=df_harvest[df_harvest['year']>=2000]['day_year'].to_list()\n",
    "sample_mean=np.mean(np.array(sample))\n",
    "sample_mean"
   ]
  },
  {
   "cell_type": "code",
   "execution_count": null,
   "metadata": {},
   "outputs": [],
   "source": [
    "sample_sd = np.std(np.array(sample))\n",
    "sample_sd "
   ]
  },
  {
   "cell_type": "code",
   "execution_count": null,
   "metadata": {},
   "outputs": [],
   "source": [
    "sigma = np.std(y)\n",
    "sigma"
   ]
  },
  {
   "cell_type": "code",
   "execution_count": null,
   "metadata": {},
   "outputs": [],
   "source": [
    "z_stat = (sample_mean-mu)/(sigma/np.sqrt(np.size(np.array(sample))))"
   ]
  },
  {
   "cell_type": "code",
   "execution_count": null,
   "metadata": {},
   "outputs": [],
   "source": [
    "z_stat "
   ]
  },
  {
   "cell_type": "markdown",
   "metadata": {},
   "source": [
    "Significant at alpha=0.1 https://sphweb.bumc.bu.edu/otlt/mph-modules/bs/bs704_hypothesistest-means-proportions/bs704_hypothesistest-means-proportions3.html"
   ]
  },
  {
   "cell_type": "code",
   "execution_count": null,
   "metadata": {},
   "outputs": [],
   "source": [
    "# With Statsmodels\n",
    "\n",
    "import statsmodels.api as sm\n",
    "X = df_harvest[['year']]\n",
    "X = sm.add_constant(X)\n",
    "model = sm.OLS(y,X).fit()"
   ]
  },
  {
   "cell_type": "code",
   "execution_count": null,
   "metadata": {},
   "outputs": [],
   "source": [
    "model.summary()"
   ]
  },
  {
   "cell_type": "code",
   "execution_count": null,
   "metadata": {},
   "outputs": [],
   "source": [
    "robust = sm.OLS(y,X).fit().get_robustcov_results(cov_type='HAC', maxlags=10)\n",
    "robust.summary()"
   ]
  },
  {
   "cell_type": "code",
   "execution_count": null,
   "metadata": {},
   "outputs": [],
   "source": [
    "a = robust.params\n",
    "print(a[0])\n",
    "print(a[1])"
   ]
  },
  {
   "cell_type": "code",
   "execution_count": null,
   "metadata": {},
   "outputs": [],
   "source": [
    "model2 = sm.GLSAR(y, X, rho=2)\n",
    "res = model2.iterative_fit(maxiter=100)\n",
    "res.summary()"
   ]
  },
  {
   "cell_type": "code",
   "execution_count": null,
   "metadata": {},
   "outputs": [],
   "source": [
    "a_glsar = res.params\n",
    "a_glsar"
   ]
  },
  {
   "cell_type": "code",
   "execution_count": null,
   "metadata": {},
   "outputs": [],
   "source": [
    "fig = plt.figure(figsize=(20,10))\n",
    "plt.title(\"Winter Barley Harvest Data with superimposed regression models (Scikit-Learn, Statsmodels)\")\n",
    "plt.grid()\n",
    "sns.scatterplot(x=df_harvest['year'],y=df_harvest['day_year'], hue=df['lat']);\n",
    "sns.lineplot(x=df_harvest['year'],y=a[0]+a[1]*df_harvest['year'], c='darkgray');\n",
    "sns.lineplot(x=df_harvest['year'],y=a_glsar[0]+a_glsar[1]*df_harvest['year'], c='fuchsia')\n",
    "sns.lineplot(x=df_harvest['year'],y=i+c[0]*df_harvest['year'], c='cornflowerblue');"
   ]
  },
  {
   "cell_type": "code",
   "execution_count": null,
   "metadata": {},
   "outputs": [],
   "source": [
    "lst_years = sorted(df_harvest['year'].unique().tolist())\n",
    "numbers = [i for i in range (1,69,1)]\n",
    "years_dict = dict(zip(lst_years,numbers))\n",
    "df_test = df_harvest.replace({'year':years_dict})\n",
    "df_test"
   ]
  },
  {
   "cell_type": "code",
   "execution_count": null,
   "metadata": {},
   "outputs": [],
   "source": [
    "X_test = df_test['year']\n",
    "y_test=np.array(df_test['day_year'])\n",
    "X_test = sm.add_constant(X_test)\n",
    "model_test = sm.OLS(y_test,X_test).fit()\n",
    "model_test.summary()"
   ]
  },
  {
   "cell_type": "code",
   "execution_count": null,
   "metadata": {},
   "outputs": [],
   "source": [
    "model2ts = sm.GLSAR(y_test, X_test, rho=2)\n",
    "rests = model2ts.iterative_fit(maxiter=100)\n",
    "rests.summary()"
   ]
  }
 ],
 "metadata": {
  "kernelspec": {
   "display_name": "Python 3",
   "language": "python",
   "name": "python3"
  },
  "language_info": {
   "codemirror_mode": {
    "name": "ipython",
    "version": 3
   },
   "file_extension": ".py",
   "mimetype": "text/x-python",
   "name": "python",
   "nbconvert_exporter": "python",
   "pygments_lexer": "ipython3",
   "version": "3.7.7"
  }
 },
 "nbformat": 4,
 "nbformat_minor": 4
}
